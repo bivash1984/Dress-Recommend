{
 "cells": [
  {
   "cell_type": "code",
   "execution_count": 2,
   "metadata": {},
   "outputs": [],
   "source": [
    "# importing required libraries\n",
    "\n",
    "import pandas as pd\n",
    "import numpy as np\n",
    "import math\n",
    "from scipy import stats\n",
    "from statistics import mode\n",
    "from scipy.stats import chi2\n",
    "from datetime import date, timedelta\n",
    "\n",
    "import matplotlib.pyplot as plt\n",
    "import seaborn as sns\n",
    "from sklearn.metrics import roc_auc_score\n",
    "from sklearn.metrics import roc_curve\n",
    "from sklearn.metrics import accuracy_score\n",
    "from sklearn.model_selection import learning_curve, GridSearchCV\n",
    "sns.set()\n"
   ]
  },
  {
   "cell_type": "markdown",
   "metadata": {},
   "source": [
    "<font color='darkorange'>\n",
    "    \n",
    "### Analysis of the attribute dataset \n",
    "    \n",
    "    \n",
    "</font>"
   ]
  },
  {
   "cell_type": "code",
   "execution_count": 3,
   "metadata": {},
   "outputs": [],
   "source": [
    "# reading 1st data excel containing the dresses attributes and it's recommendations \n",
    "\n",
    "df_attr = pd.read_excel('Attribute DataSet.xlsx')"
   ]
  },
  {
   "cell_type": "code",
   "execution_count": 4,
   "metadata": {},
   "outputs": [
    {
     "data": {
      "text/html": [
       "<div>\n",
       "<style scoped>\n",
       "    .dataframe tbody tr th:only-of-type {\n",
       "        vertical-align: middle;\n",
       "    }\n",
       "\n",
       "    .dataframe tbody tr th {\n",
       "        vertical-align: top;\n",
       "    }\n",
       "\n",
       "    .dataframe thead th {\n",
       "        text-align: right;\n",
       "    }\n",
       "</style>\n",
       "<table border=\"1\" class=\"dataframe\">\n",
       "  <thead>\n",
       "    <tr style=\"text-align: right;\">\n",
       "      <th></th>\n",
       "      <th>Dress_ID</th>\n",
       "      <th>Style</th>\n",
       "      <th>Price</th>\n",
       "      <th>Rating</th>\n",
       "      <th>Size</th>\n",
       "      <th>Season</th>\n",
       "      <th>NeckLine</th>\n",
       "      <th>SleeveLength</th>\n",
       "      <th>waiseline</th>\n",
       "      <th>Material</th>\n",
       "      <th>FabricType</th>\n",
       "      <th>Decoration</th>\n",
       "      <th>Pattern Type</th>\n",
       "      <th>Recommendation</th>\n",
       "    </tr>\n",
       "  </thead>\n",
       "  <tbody>\n",
       "    <tr>\n",
       "      <th>0</th>\n",
       "      <td>1006032852</td>\n",
       "      <td>Sexy</td>\n",
       "      <td>Low</td>\n",
       "      <td>4.6</td>\n",
       "      <td>M</td>\n",
       "      <td>Summer</td>\n",
       "      <td>o-neck</td>\n",
       "      <td>sleevless</td>\n",
       "      <td>empire</td>\n",
       "      <td>NaN</td>\n",
       "      <td>chiffon</td>\n",
       "      <td>ruffles</td>\n",
       "      <td>animal</td>\n",
       "      <td>1</td>\n",
       "    </tr>\n",
       "    <tr>\n",
       "      <th>1</th>\n",
       "      <td>1212192089</td>\n",
       "      <td>Casual</td>\n",
       "      <td>Low</td>\n",
       "      <td>0.0</td>\n",
       "      <td>L</td>\n",
       "      <td>Summer</td>\n",
       "      <td>o-neck</td>\n",
       "      <td>Petal</td>\n",
       "      <td>natural</td>\n",
       "      <td>microfiber</td>\n",
       "      <td>NaN</td>\n",
       "      <td>ruffles</td>\n",
       "      <td>animal</td>\n",
       "      <td>0</td>\n",
       "    </tr>\n",
       "    <tr>\n",
       "      <th>2</th>\n",
       "      <td>1190380701</td>\n",
       "      <td>vintage</td>\n",
       "      <td>High</td>\n",
       "      <td>0.0</td>\n",
       "      <td>L</td>\n",
       "      <td>Automn</td>\n",
       "      <td>o-neck</td>\n",
       "      <td>full</td>\n",
       "      <td>natural</td>\n",
       "      <td>polyster</td>\n",
       "      <td>NaN</td>\n",
       "      <td>NaN</td>\n",
       "      <td>print</td>\n",
       "      <td>0</td>\n",
       "    </tr>\n",
       "    <tr>\n",
       "      <th>3</th>\n",
       "      <td>966005983</td>\n",
       "      <td>Brief</td>\n",
       "      <td>Average</td>\n",
       "      <td>4.6</td>\n",
       "      <td>L</td>\n",
       "      <td>Spring</td>\n",
       "      <td>o-neck</td>\n",
       "      <td>full</td>\n",
       "      <td>natural</td>\n",
       "      <td>silk</td>\n",
       "      <td>chiffon</td>\n",
       "      <td>embroidary</td>\n",
       "      <td>print</td>\n",
       "      <td>1</td>\n",
       "    </tr>\n",
       "    <tr>\n",
       "      <th>4</th>\n",
       "      <td>876339541</td>\n",
       "      <td>cute</td>\n",
       "      <td>Low</td>\n",
       "      <td>4.5</td>\n",
       "      <td>M</td>\n",
       "      <td>Summer</td>\n",
       "      <td>o-neck</td>\n",
       "      <td>butterfly</td>\n",
       "      <td>natural</td>\n",
       "      <td>chiffonfabric</td>\n",
       "      <td>chiffon</td>\n",
       "      <td>bow</td>\n",
       "      <td>dot</td>\n",
       "      <td>0</td>\n",
       "    </tr>\n",
       "  </tbody>\n",
       "</table>\n",
       "</div>"
      ],
      "text/plain": [
       "     Dress_ID    Style    Price  Rating Size  Season NeckLine SleeveLength  \\\n",
       "0  1006032852     Sexy      Low     4.6    M  Summer   o-neck    sleevless   \n",
       "1  1212192089   Casual      Low     0.0    L  Summer   o-neck        Petal   \n",
       "2  1190380701  vintage     High     0.0    L  Automn   o-neck         full   \n",
       "3   966005983    Brief  Average     4.6    L  Spring   o-neck         full   \n",
       "4   876339541     cute      Low     4.5    M  Summer   o-neck    butterfly   \n",
       "\n",
       "  waiseline       Material FabricType  Decoration Pattern Type  Recommendation  \n",
       "0    empire            NaN    chiffon     ruffles       animal               1  \n",
       "1   natural     microfiber        NaN     ruffles       animal               0  \n",
       "2   natural       polyster        NaN         NaN        print               0  \n",
       "3   natural           silk    chiffon  embroidary        print               1  \n",
       "4   natural  chiffonfabric    chiffon         bow          dot               0  "
      ]
     },
     "execution_count": 4,
     "metadata": {},
     "output_type": "execute_result"
    }
   ],
   "source": [
    "# Verifying the first 5 reords in the excel\n",
    "\n",
    "df_attr.head()"
   ]
  },
  {
   "cell_type": "code",
   "execution_count": 5,
   "metadata": {},
   "outputs": [
    {
     "data": {
      "text/html": [
       "<div>\n",
       "<style scoped>\n",
       "    .dataframe tbody tr th:only-of-type {\n",
       "        vertical-align: middle;\n",
       "    }\n",
       "\n",
       "    .dataframe tbody tr th {\n",
       "        vertical-align: top;\n",
       "    }\n",
       "\n",
       "    .dataframe thead th {\n",
       "        text-align: right;\n",
       "    }\n",
       "</style>\n",
       "<table border=\"1\" class=\"dataframe\">\n",
       "  <thead>\n",
       "    <tr style=\"text-align: right;\">\n",
       "      <th></th>\n",
       "      <th>Dress_ID</th>\n",
       "      <th>Style</th>\n",
       "      <th>Price</th>\n",
       "      <th>Rating</th>\n",
       "      <th>Size</th>\n",
       "      <th>Season</th>\n",
       "      <th>NeckLine</th>\n",
       "      <th>SleeveLength</th>\n",
       "      <th>waiseline</th>\n",
       "      <th>Material</th>\n",
       "      <th>FabricType</th>\n",
       "      <th>Decoration</th>\n",
       "      <th>Pattern Type</th>\n",
       "      <th>Recommendation</th>\n",
       "    </tr>\n",
       "  </thead>\n",
       "  <tbody>\n",
       "    <tr>\n",
       "      <th>495</th>\n",
       "      <td>713391965</td>\n",
       "      <td>Casual</td>\n",
       "      <td>Low</td>\n",
       "      <td>4.7</td>\n",
       "      <td>M</td>\n",
       "      <td>Spring</td>\n",
       "      <td>o-neck</td>\n",
       "      <td>full</td>\n",
       "      <td>natural</td>\n",
       "      <td>polyster</td>\n",
       "      <td>NaN</td>\n",
       "      <td>NaN</td>\n",
       "      <td>solid</td>\n",
       "      <td>1</td>\n",
       "    </tr>\n",
       "    <tr>\n",
       "      <th>496</th>\n",
       "      <td>722565148</td>\n",
       "      <td>Sexy</td>\n",
       "      <td>Low</td>\n",
       "      <td>4.3</td>\n",
       "      <td>free</td>\n",
       "      <td>Summer</td>\n",
       "      <td>o-neck</td>\n",
       "      <td>full</td>\n",
       "      <td>empire</td>\n",
       "      <td>cotton</td>\n",
       "      <td>NaN</td>\n",
       "      <td>NaN</td>\n",
       "      <td>NaN</td>\n",
       "      <td>0</td>\n",
       "    </tr>\n",
       "    <tr>\n",
       "      <th>497</th>\n",
       "      <td>532874347</td>\n",
       "      <td>Casual</td>\n",
       "      <td>Average</td>\n",
       "      <td>4.7</td>\n",
       "      <td>M</td>\n",
       "      <td>Summer</td>\n",
       "      <td>v-neck</td>\n",
       "      <td>full</td>\n",
       "      <td>empire</td>\n",
       "      <td>cotton</td>\n",
       "      <td>NaN</td>\n",
       "      <td>lace</td>\n",
       "      <td>solid</td>\n",
       "      <td>1</td>\n",
       "    </tr>\n",
       "    <tr>\n",
       "      <th>498</th>\n",
       "      <td>655464934</td>\n",
       "      <td>Casual</td>\n",
       "      <td>Average</td>\n",
       "      <td>4.6</td>\n",
       "      <td>L</td>\n",
       "      <td>winter</td>\n",
       "      <td>boat-neck</td>\n",
       "      <td>sleevless</td>\n",
       "      <td>empire</td>\n",
       "      <td>silk</td>\n",
       "      <td>broadcloth</td>\n",
       "      <td>applique</td>\n",
       "      <td>print</td>\n",
       "      <td>1</td>\n",
       "    </tr>\n",
       "    <tr>\n",
       "      <th>499</th>\n",
       "      <td>919930954</td>\n",
       "      <td>Casual</td>\n",
       "      <td>Low</td>\n",
       "      <td>4.4</td>\n",
       "      <td>free</td>\n",
       "      <td>Summer</td>\n",
       "      <td>v-neck</td>\n",
       "      <td>short</td>\n",
       "      <td>empire</td>\n",
       "      <td>cotton</td>\n",
       "      <td>Corduroy</td>\n",
       "      <td>lace</td>\n",
       "      <td>solid</td>\n",
       "      <td>0</td>\n",
       "    </tr>\n",
       "  </tbody>\n",
       "</table>\n",
       "</div>"
      ],
      "text/plain": [
       "      Dress_ID   Style    Price  Rating  Size  Season   NeckLine SleeveLength  \\\n",
       "495  713391965  Casual      Low     4.7     M  Spring     o-neck         full   \n",
       "496  722565148    Sexy      Low     4.3  free  Summer     o-neck         full   \n",
       "497  532874347  Casual  Average     4.7     M  Summer     v-neck         full   \n",
       "498  655464934  Casual  Average     4.6     L  winter  boat-neck    sleevless   \n",
       "499  919930954  Casual      Low     4.4  free  Summer     v-neck        short   \n",
       "\n",
       "    waiseline  Material  FabricType Decoration Pattern Type  Recommendation  \n",
       "495   natural  polyster         NaN        NaN        solid               1  \n",
       "496    empire    cotton         NaN        NaN          NaN               0  \n",
       "497    empire    cotton         NaN       lace        solid               1  \n",
       "498    empire      silk  broadcloth   applique        print               1  \n",
       "499    empire    cotton    Corduroy       lace        solid               0  "
      ]
     },
     "execution_count": 5,
     "metadata": {},
     "output_type": "execute_result"
    }
   ],
   "source": [
    "# Verifying the last 5 records in the excel\n",
    "\n",
    "df_attr.tail()"
   ]
  },
  {
   "cell_type": "code",
   "execution_count": 6,
   "metadata": {},
   "outputs": [
    {
     "data": {
      "text/plain": [
       "(500, 14)"
      ]
     },
     "execution_count": 6,
     "metadata": {},
     "output_type": "execute_result"
    }
   ],
   "source": [
    "# Veirfying the overall data-size Row X Columns\n",
    "\n",
    "df_attr.shape"
   ]
  },
  {
   "cell_type": "code",
   "execution_count": 7,
   "metadata": {},
   "outputs": [
    {
     "name": "stdout",
     "output_type": "stream",
     "text": [
      "<class 'pandas.core.frame.DataFrame'>\n",
      "RangeIndex: 500 entries, 0 to 499\n",
      "Data columns (total 14 columns):\n",
      " #   Column          Non-Null Count  Dtype  \n",
      "---  ------          --------------  -----  \n",
      " 0   Dress_ID        500 non-null    int64  \n",
      " 1   Style           500 non-null    object \n",
      " 2   Price           498 non-null    object \n",
      " 3   Rating          500 non-null    float64\n",
      " 4   Size            500 non-null    object \n",
      " 5   Season          498 non-null    object \n",
      " 6   NeckLine        497 non-null    object \n",
      " 7   SleeveLength    498 non-null    object \n",
      " 8   waiseline       413 non-null    object \n",
      " 9   Material        372 non-null    object \n",
      " 10  FabricType      234 non-null    object \n",
      " 11  Decoration      264 non-null    object \n",
      " 12  Pattern Type    391 non-null    object \n",
      " 13  Recommendation  500 non-null    int64  \n",
      "dtypes: float64(1), int64(2), object(11)\n",
      "memory usage: 54.8+ KB\n"
     ]
    }
   ],
   "source": [
    "# Verifying the columns information in the attribute dataset\n",
    "\n",
    "df_attr.info()"
   ]
  },
  {
   "cell_type": "code",
   "execution_count": 8,
   "metadata": {},
   "outputs": [
    {
     "name": "stdout",
     "output_type": "stream",
     "text": [
      "Number of null values: \n"
     ]
    },
    {
     "data": {
      "text/plain": [
       "Dress_ID            0\n",
       "Style               0\n",
       "Price               2\n",
       "Rating              0\n",
       "Size                0\n",
       "Season              2\n",
       "NeckLine            3\n",
       "SleeveLength        2\n",
       "waiseline          87\n",
       "Material          128\n",
       "FabricType        266\n",
       "Decoration        236\n",
       "Pattern Type      109\n",
       "Recommendation      0\n",
       "dtype: int64"
      ]
     },
     "execution_count": 8,
     "metadata": {},
     "output_type": "execute_result"
    }
   ],
   "source": [
    "# finding the sum of the missing values for different columns - \n",
    "\n",
    "print('Number of null values: ')\n",
    "df_attr.isna().sum()"
   ]
  },
  {
   "cell_type": "code",
   "execution_count": 9,
   "metadata": {},
   "outputs": [
    {
     "name": "stdout",
     "output_type": "stream",
     "text": [
      "Unique value for Style column is: \n",
      "['Sexy' 'Casual' 'vintage' 'Brief' 'cute' 'bohemian' 'Novelty' 'Flare'\n",
      " 'party' 'sexy' 'work' 'OL' 'fashion']\n",
      "********************************************************************************\n",
      "Unique value for Price column is: \n",
      "['Low' 'High' 'Average' 'Medium' 'very-high' 'low' 'high' nan]\n",
      "********************************************************************************\n",
      "Unique value for Size column is: \n",
      "['M' 'L' 'XL' 'free' 'S' 'small' 's']\n",
      "********************************************************************************\n",
      "Unique value for Season column is: \n",
      "['Summer' 'Automn' 'Spring' 'Winter' 'spring' 'winter' nan 'summer'\n",
      " 'Autumn']\n",
      "********************************************************************************\n",
      "Unique value for NeckLine column is: \n",
      "['o-neck' 'v-neck' 'boat-neck' 'peterpan-collor' 'ruffled'\n",
      " 'turndowncollor' 'slash-neck' 'mandarin-collor' 'open' 'sqare-collor'\n",
      " 'Sweetheart' 'sweetheart' nan 'Scoop' 'halter' 'backless' 'bowneck']\n",
      "********************************************************************************\n",
      "Unique value for SleeveLength column is: \n",
      "['sleevless' 'Petal' 'full' 'butterfly' 'short' 'threequarter'\n",
      " 'halfsleeve' 'cap-sleeves' 'turndowncollor' 'threequater' 'capsleeves'\n",
      " 'sleeveless' 'sleeevless' 'half' 'urndowncollor' 'thressqatar' nan\n",
      " 'sleveless']\n",
      "********************************************************************************\n",
      "Unique value for waiseline column is: \n",
      "['empire' 'natural' nan 'princess' 'dropped']\n",
      "********************************************************************************\n",
      "Unique value for Material column is: \n",
      "[nan 'microfiber' 'polyster' 'silk' 'chiffonfabric' 'cotton' 'nylon'\n",
      " 'other' 'milksilk' 'linen' 'rayon' 'lycra' 'mix' 'acrylic' 'spandex'\n",
      " 'lace' 'modal' 'cashmere' 'viscos' 'knitting' 'sill' 'wool' 'model'\n",
      " 'shiffon']\n",
      "********************************************************************************\n",
      "Unique value for FabricType column is: \n",
      "['chiffon' nan 'broadcloth' 'jersey' 'other' 'batik' 'satin' 'flannael'\n",
      " 'worsted' 'woolen' 'poplin' 'dobby' 'knitting' 'flannel' 'tulle' 'sattin'\n",
      " 'organza' 'lace' 'Corduroy' 'wollen' 'knitted' 'shiffon' 'terry']\n",
      "********************************************************************************\n",
      "Unique value for Decoration column is: \n",
      "['ruffles' nan 'embroidary' 'bow' 'lace' 'beading' 'sashes' 'hollowout'\n",
      " 'pockets' 'sequined' 'applique' 'button' 'Tiered' 'rivet' 'feathers'\n",
      " 'flowers' 'pearls' 'pleat' 'crystal' 'ruched' 'draped' 'tassel' 'plain'\n",
      " 'none' 'cascading']\n",
      "********************************************************************************\n",
      "Unique value for Pattern Type column is: \n",
      "['animal' 'print' 'dot' 'solid' nan 'patchwork' 'striped' 'geometric'\n",
      " 'plaid' 'leopard' 'floral' 'character' 'splice' 'leapord' 'none']\n",
      "********************************************************************************\n"
     ]
    }
   ],
   "source": [
    "# finding unique value in each categorical data columns\n",
    "\n",
    "for colns in df_attr.select_dtypes(include='object'):\n",
    "    print('Unique value for {} column is: '.format(colns))\n",
    "    print(df_attr[colns].unique())\n",
    "    print('*' *80)"
   ]
  },
  {
   "cell_type": "code",
   "execution_count": 11,
   "metadata": {},
   "outputs": [
    {
     "data": {
      "text/plain": [
       "<matplotlib.axes._subplots.AxesSubplot at 0x1258786afd0>"
      ]
     },
     "execution_count": 11,
     "metadata": {},
     "output_type": "execute_result"
    },
    {
     "data": {
      "image/png": "[encoded data removed]",
      "text/plain": [
       "<Figure size 432x288 with 1 Axes>"
      ]
     },
     "metadata": {},
     "output_type": "display_data"
    }
   ],
   "source": [
    "# verifying the data distribution for the 'Rating' column of float data type\n",
    "\n",
    "sns.distplot(df_attr['Rating'])"
   ]
  },
  {
   "cell_type": "code",
   "execution_count": 10,
   "metadata": {},
   "outputs": [
    {
     "data": {
      "text/plain": [
       "<matplotlib.axes._subplots.AxesSubplot at 0x1fbc8da1278>"
      ]
     },
     "execution_count": 10,
     "metadata": {},
     "output_type": "execute_result"
    },
    {
     "data": {
      "image/png": "[encoded data removed]",
      "text/plain": [
       "<Figure size 432x288 with 1 Axes>"
      ]
     },
     "metadata": {},
     "output_type": "display_data"
    }
   ],
   "source": [
    "# verifying the data distribution for the 'Recommendation' column of int data type\n",
    "\n",
    "sns.distplot(df_attr['Recommendation'])"
   ]
  },
  {
   "cell_type": "markdown",
   "metadata": {},
   "source": [
    "<font color='indigo'>\n",
    "    \n",
    "### Key Takeways\n",
    "    \n",
    "1. 2-columns are of integer data type, including dependent column 'Recommendation'. <br>\n",
    "2. 13-Columns are of object data typ, including 'Price' column. <br>\n",
    "3. waiseline, Material, FabricType, Decoration, and Pattern Type columns have several data missing. <br>\n",
    "4. Unique values are - misspelled, upper-lower cases mixed, Synonymous words are used. <br>\n",
    "5. Rating column is showing several zero values, but in general rating should be in between 1-5. <br>\n",
    "5. We need to treat all these problems separately.\n",
    "    \n",
    "</font>"
   ]
  },
  {
   "cell_type": "markdown",
   "metadata": {},
   "source": [
    "<font color='orange'>\n",
    "    \n",
    "### Handling the unique value problems for categorical data\n",
    "    \n",
    "    \n",
    "</font>"
   ]
  },
  {
   "cell_type": "code",
   "execution_count": 12,
   "metadata": {},
   "outputs": [],
   "source": [
    "# replacing unique values with appropriate value\n",
    "\n",
    "df_attr['Style'].replace({\"sexy\": \"Sexy\"}, inplace=True)\n",
    "df_attr['Price'].replace({\"low\": \"Low\" , \"high\": \"High\"}, inplace=True)\n",
    "df_attr['Size'].replace({\"small\": \"S\" , \"s\": \"S\"}, inplace=True)\n",
    "df_attr['Season'].replace({\"spring\": \"Spring\" , \"summer\": \"Summer\", \"Automn\": \"Autumn\", \"winter\": \"Winter\"}, inplace=True)\n",
    "df_attr['NeckLine'].replace({\"sweetheart\": \"Sweetheart\"}, inplace=True)\n",
    "df_attr['SleeveLength'].replace({\"sleevless\": \"Sleeveless\" , \"sleeveless\": \"Sleeveless\", \"sleeevless\": \"Sleeveless\", \n",
    "                                \"sleveless\": \"Sleeveless\", \"threequater\":\"threequarter\", \"thressqatar\":\"threequarter\",\n",
    "                                \"capsleeves\":\"cap-sleeves\", \"urndowncollor\":\"turndowncollor\", \"halfsleeve\":\"half\"}, inplace=True)\n",
    "df_attr['Material'].replace({\"sill\": \"silk\" , \"model\": \"modal\", \"shiffon\":\"chiffonfabric\"}, inplace=True)\n",
    "df_attr['FabricType'].replace({\"flannael\": \"flannel\" , \"shiffon\": \"chiffon\", \"knitting\":\"knitted\",\n",
    "                              \"wollen\":\"woolen\", \"sattin\":\"satin\"}, inplace=True)\n",
    "df_attr['Pattern Type'].replace({\"leapord\": \"leopard\"}, inplace=True)\n",
    "\n",
    "\n",
    "#print(df_attr['Pattern Type'].unique())"
   ]
  },
  {
   "cell_type": "code",
   "execution_count": 13,
   "metadata": {},
   "outputs": [
    {
     "name": "stdout",
     "output_type": "stream",
     "text": [
      "Unique value for Style column is: \n",
      "['Sexy' 'Casual' 'vintage' 'Brief' 'cute' 'bohemian' 'Novelty' 'Flare'\n",
      " 'party' 'work' 'OL' 'fashion']\n",
      "********************************************************************************\n",
      "Unique value for Price column is: \n",
      "['Low' 'High' 'Average' 'Medium' 'very-high' nan]\n",
      "********************************************************************************\n",
      "Unique value for Size column is: \n",
      "['M' 'L' 'XL' 'free' 'S']\n",
      "********************************************************************************\n",
      "Unique value for Season column is: \n",
      "['Summer' 'Autumn' 'Spring' 'Winter' nan]\n",
      "********************************************************************************\n",
      "Unique value for NeckLine column is: \n",
      "['o-neck' 'v-neck' 'boat-neck' 'peterpan-collor' 'ruffled'\n",
      " 'turndowncollor' 'slash-neck' 'mandarin-collor' 'open' 'sqare-collor'\n",
      " 'Sweetheart' nan 'Scoop' 'halter' 'backless' 'bowneck']\n",
      "********************************************************************************\n",
      "Unique value for SleeveLength column is: \n",
      "['Sleeveless' 'Petal' 'full' 'butterfly' 'short' 'threequarter' 'half'\n",
      " 'cap-sleeves' 'turndowncollor' nan]\n",
      "********************************************************************************\n",
      "Unique value for waiseline column is: \n",
      "['empire' 'natural' nan 'princess' 'dropped']\n",
      "********************************************************************************\n",
      "Unique value for Material column is: \n",
      "[nan 'microfiber' 'polyster' 'silk' 'chiffonfabric' 'cotton' 'nylon'\n",
      " 'other' 'milksilk' 'linen' 'rayon' 'lycra' 'mix' 'acrylic' 'spandex'\n",
      " 'lace' 'modal' 'cashmere' 'viscos' 'knitting' 'wool']\n",
      "********************************************************************************\n",
      "Unique value for FabricType column is: \n",
      "['chiffon' nan 'broadcloth' 'jersey' 'other' 'batik' 'satin' 'flannel'\n",
      " 'worsted' 'woolen' 'poplin' 'dobby' 'knitted' 'tulle' 'organza' 'lace'\n",
      " 'Corduroy' 'terry']\n",
      "********************************************************************************\n",
      "Unique value for Decoration column is: \n",
      "['ruffles' nan 'embroidary' 'bow' 'lace' 'beading' 'sashes' 'hollowout'\n",
      " 'pockets' 'sequined' 'applique' 'button' 'Tiered' 'rivet' 'feathers'\n",
      " 'flowers' 'pearls' 'pleat' 'crystal' 'ruched' 'draped' 'tassel' 'plain'\n",
      " 'none' 'cascading']\n",
      "********************************************************************************\n",
      "Unique value for Pattern Type column is: \n",
      "['animal' 'print' 'dot' 'solid' nan 'patchwork' 'striped' 'geometric'\n",
      " 'plaid' 'leopard' 'floral' 'character' 'splice' 'none']\n",
      "********************************************************************************\n"
     ]
    }
   ],
   "source": [
    "# Verify changes in unique values\n",
    "\n",
    "for colns in df_attr.select_dtypes(include='object'):\n",
    "    print('Unique value for {} column is: '.format(colns))\n",
    "    print(df_attr[colns].unique())\n",
    "    print('*' *80)"
   ]
  },
  {
   "cell_type": "markdown",
   "metadata": {},
   "source": [
    "<font color='orange'>\n",
    "    \n",
    "### Handling the missing values\n",
    "    \n",
    "    \n",
    "</font>"
   ]
  },
  {
   "cell_type": "markdown",
   "metadata": {},
   "source": [
    "#### FabricType and Decoration columns have significant data missing, around more than 50% data are missing. We have to take a call whether to drop the columns or need to update them with the mode value. First we will check the contribution of these two columns on Recommendation count before we drop them. To analyse that we will take the help of Chi-Square method as it is best for categorical data with null-hypothesis."
   ]
  },
  {
   "cell_type": "markdown",
   "metadata": {},
   "source": [
    "<font color='crimson'>\n",
    "    \n",
    "#### Chi-Square test to check the dependency of the FabricType vs Recommendation columns\n",
    "    \n",
    "    \n",
    "</font>"
   ]
  },
  {
   "cell_type": "code",
   "execution_count": 14,
   "metadata": {},
   "outputs": [
    {
     "data": {
      "text/plain": [
       "FabricType  Recommendation\n",
       "Corduroy    0                  2\n",
       "batik       1                  2\n",
       "broadcloth  0                 20\n",
       "            1                 11\n",
       "chiffon     0                 83\n",
       "            1                 61\n",
       "dobby       0                  1\n",
       "            1                  1\n",
       "flannel     0                  2\n",
       "jersey      0                  5\n",
       "            1                  7\n",
       "knitted     0                  1\n",
       "            1                  1\n",
       "lace        1                  1\n",
       "organza     1                  1\n",
       "other       0                  1\n",
       "poplin      1                  2\n",
       "satin       0                  3\n",
       "            1                  4\n",
       "terry       1                  1\n",
       "tulle       0                  1\n",
       "            1                  1\n",
       "woolen      0                  1\n",
       "            1                  2\n",
       "worsted     0                 10\n",
       "            1                  9\n",
       "dtype: int64"
      ]
     },
     "execution_count": 14,
     "metadata": {},
     "output_type": "execute_result"
    }
   ],
   "source": [
    "# Frequency count of fabric type column vs Recommendation -\n",
    "\n",
    "fab_Rec = [df_attr['FabricType'], df_attr['Recommendation']]\n",
    "headers = ['FabricType', 'Recommendation']\n",
    "df_fab_Rec = pd.concat(fab_Rec, axis=1, keys = headers)\n",
    "#df_fab_Rec\n",
    "\n",
    "count = df_fab_Rec.groupby(['FabricType', 'Recommendation']).size()\n",
    "count"
   ]
  },
  {
   "cell_type": "code",
   "execution_count": 15,
   "metadata": {
    "scrolled": true
   },
   "outputs": [
    {
     "name": "stdout",
     "output_type": "stream",
     "text": [
      "Observed table: \n",
      "**************************************************\n",
      "               Corduroy  batik  broadcloth  chiffon  dobby  flannel  jersey  \\\n",
      "Recomnd_1_Yes         0      2          11       61      1        0       7   \n",
      "Recomnd_0_No          2      0          20       83      1        2       5   \n",
      "\n",
      "               knitted  lace  organza  other  poplin  satin  terry  tulle  \\\n",
      "Recomnd_1_Yes        1     1        1      0       2      4      1      1   \n",
      "Recomnd_0_No         1     0        0      1       0      3      0      1   \n",
      "\n",
      "               woolen  worsted  \n",
      "Recomnd_1_Yes       2        9  \n",
      "Recomnd_0_No        1       10  \n"
     ]
    }
   ],
   "source": [
    "# creating view for Observed table\n",
    "\n",
    "df_fab_Rec_view = {'Corduroy': [0, 2], 'batik': [2, 0], 'broadcloth': [11, 20], 'chiffon': [61, 83], 'dobby': [1, 1], \n",
    "                  'flannel': [0,2], 'jersey': [7, 5], 'knitted': [1, 1], 'lace': [1, 0], 'organza': [1, 0], 'other': [0, 1],\n",
    "                  'poplin': [2, 0], 'satin': [4, 3], 'terry': [1, 0], 'tulle': [1,1], 'woolen': [2,1], 'worsted': [9, 10] }\n",
    "\n",
    "df_fab_frq = pd.DataFrame(df_fab_Rec_view, columns = ['Corduroy', 'batik', 'broadcloth', 'chiffon', 'dobby','flannel',\n",
    "                                                    'jersey','knitted', 'lace', 'organza', 'other', 'poplin', 'satin',\n",
    "                                                     'terry','tulle', 'woolen', 'worsted' ], \n",
    "                          index = ['Recomnd_1_Yes', 'Recomnd_0_No'])\n",
    "\n",
    "\n",
    "print('Observed table: ')\n",
    "print('*' * 50 )\n",
    "print(df_fab_frq)"
   ]
  },
  {
   "cell_type": "code",
   "execution_count": 16,
   "metadata": {},
   "outputs": [],
   "source": [
    "# H0: No significant relationship between febric type and product recommendation.\n",
    "# H1: There is significant relationship between febric type and product recommendation.\n",
    "\n",
    "#Now we need to create expected table for the above null hypothesis. Formula -> E = ((row total * column total) / grand total)\n",
    "\n",
    "Obsv_lst = [0,2,2,0,11,20,61,83,1,1,0,2,7,5,1,1,1,0,1,0,0,1,2,0,4,3,1,0,1,1,2,1,9,10]\n",
    "\n",
    "# Total for all combinations\n",
    "grand_Total = sum(Obsv_lst)\n",
    "\n",
    "# Total sum column wise\n",
    "To_cls = df_fab_frq.sum(axis=0)\n",
    "\n",
    "# Total sum row wise\n",
    "To_rows = df_fab_frq.sum(axis=1)"
   ]
  },
  {
   "cell_type": "code",
   "execution_count": 17,
   "metadata": {},
   "outputs": [
    {
     "name": "stdout",
     "output_type": "stream",
     "text": [
      "The expected list is:  [0.8888888888888888, 1.1111111111111112, 0.8888888888888888, 1.1111111111111112, 13.777777777777779, 17.22222222222222, 64.0, 80.0, 0.8888888888888888, 1.1111111111111112, 0.8888888888888888, 1.1111111111111112, 5.333333333333333, 6.666666666666667, 0.8888888888888888, 1.1111111111111112, 0.4444444444444444, 0.5555555555555556, 0.4444444444444444, 0.5555555555555556, 0.4444444444444444, 0.5555555555555556, 0.8888888888888888, 1.1111111111111112, 3.111111111111111, 3.888888888888889, 0.4444444444444444, 0.5555555555555556, 0.8888888888888888, 1.1111111111111112, 1.3333333333333333, 1.6666666666666667, 8.444444444444445, 10.555555555555555]\n"
     ]
    }
   ],
   "source": [
    "# Now creating the expected list corresponding to the observed list\n",
    "\n",
    "def exp_list(To_cls, To_rows):\n",
    "    Expected_lst = []\n",
    "    for i in range(len(To_cls)):\n",
    "        for j in range(len(To_rows)):\n",
    "            res = (To_cls[i] * To_rows[j]) / grand_Total\n",
    "            Expected_lst.append(res)\n",
    "            \n",
    "    return Expected_lst\n",
    "\n",
    "Expects_lst = exp_list(To_cls, To_rows)\n",
    "print('The expected list is: ', Expects_lst)"
   ]
  },
  {
   "cell_type": "code",
   "execution_count": 18,
   "metadata": {},
   "outputs": [
    {
     "name": "stdout",
     "output_type": "stream",
     "text": [
      "Calculated Chi-Square value is:  16.1466218469561\n"
     ]
    }
   ],
   "source": [
    "# Now applying Chi-Square independence formula on Observed and Expected list\n",
    "\n",
    "Ob_vals = np.array(Obsv_lst) # observed value\n",
    "Ex_vals = np.array(Expects_lst) # expected value\n",
    "\n",
    "def chi_sqr(Ob_vals, Ex_vals):\n",
    "    results = (Ob_vals - Ex_vals)**2 # (O-E)**2\n",
    "    sum_sqr = 0\n",
    "    for ele in range(len(results)):\n",
    "        sum_sqr += (results[ele] / Ex_vals[ele])\n",
    "    return sum_sqr\n",
    "\n",
    "X_sqr = chi_sqr(Ob_vals, Ex_vals)\n",
    "\n",
    "print('Calculated Chi-Square value is: ', X_sqr)"
   ]
  },
  {
   "cell_type": "code",
   "execution_count": 19,
   "metadata": {},
   "outputs": [
    {
     "name": "stdout",
     "output_type": "stream",
     "text": [
      "Critical value of Chi-Square is:  32.670573340917315\n"
     ]
    }
   ],
   "source": [
    "# At significace level ∝ = 5% = 0.05\n",
    "# degree of freedom = (2-1) * (22-1) = 21\n",
    "\n",
    "# prob = 1-0.05 = 0.95\n",
    "p = 0.95\n",
    "dof = 21\n",
    "\n",
    "critical = chi2.ppf(p, dof)\n",
    "print('Critical value of Chi-Square is: ', critical)"
   ]
  },
  {
   "cell_type": "markdown",
   "metadata": {},
   "source": [
    "<font color='green'>\n",
    "    \n",
    "### Conclusions\n",
    "    \n",
    "The criticial value of Chi-Square is: Χ^2 = 32.67 at 5% level of significance. <br>\n",
    "Our computed value of Chi-Square is: Χ^2 = 16.15 <br>\n",
    "\n",
    "So, computed value falls in acceptance region. Hence we accept the Null Hypothesis. <br>\n",
    "Hence there is no significant relationship between febric type and product recommendation. at 5% level of significance.\n",
    "\n",
    "    \n",
    "</font>"
   ]
  },
  {
   "cell_type": "markdown",
   "metadata": {},
   "source": [
    "<font color='crimson'>\n",
    "    \n",
    "#### Chi-Square test to check the dependency of the Decoration vs Recommendation columns\n",
    "    \n",
    "    \n",
    "</font>"
   ]
  },
  {
   "cell_type": "code",
   "execution_count": 20,
   "metadata": {},
   "outputs": [
    {
     "data": {
      "text/plain": [
       "Decoration  Recommendation\n",
       "Tiered      0                  1\n",
       "applique    0                 12\n",
       "            1                  9\n",
       "beading     0                  9\n",
       "            1                 13\n",
       "bow         0                 10\n",
       "            1                  5\n",
       "button      0                  4\n",
       "            1                  2\n",
       "cascading   0                  1\n",
       "crystal     0                  2\n",
       "            1                  1\n",
       "draped      0                  1\n",
       "            1                  1\n",
       "embroidary  0                  2\n",
       "            1                  3\n",
       "feathers    1                  2\n",
       "flowers     0                  1\n",
       "            1                  3\n",
       "hollowout   0                 16\n",
       "            1                  5\n",
       "lace        0                 38\n",
       "            1                 32\n",
       "none        0                  1\n",
       "            1                  1\n",
       "pearls      0                  1\n",
       "plain       0                  1\n",
       "            1                  1\n",
       "pleat       1                  1\n",
       "pockets     0                  3\n",
       "            1                  2\n",
       "rivet       0                  3\n",
       "ruched      0                  2\n",
       "            1                  1\n",
       "ruffles     0                 10\n",
       "            1                  7\n",
       "sashes      0                 28\n",
       "            1                 14\n",
       "sequined    0                  6\n",
       "            1                  8\n",
       "tassel      1                  1\n",
       "dtype: int64"
      ]
     },
     "execution_count": 20,
     "metadata": {},
     "output_type": "execute_result"
    }
   ],
   "source": [
    "# Frequency count of Decoration column vs Recommendation -\n",
    "\n",
    "deco_Rec = [df_attr['Decoration'], df_attr['Recommendation']]\n",
    "headers = ['Decoration', 'Recommendation']\n",
    "df_deco_Rec = pd.concat(deco_Rec, axis=1, keys = headers)\n",
    "#df_fab_Rec\n",
    "\n",
    "counts = df_deco_Rec.groupby(['Decoration', 'Recommendation']).size()\n",
    "counts"
   ]
  },
  {
   "cell_type": "code",
   "execution_count": 21,
   "metadata": {},
   "outputs": [
    {
     "name": "stdout",
     "output_type": "stream",
     "text": [
      "Observed table: \n",
      "**************************************************\n",
      "               Tiered  applique  beading  bow  button  cascading  crystal  \\\n",
      "Recomnd_1_Yes       0         9       13    5       2          0        1   \n",
      "Recomnd_0_No        1        12        9   10       4          1        2   \n",
      "\n",
      "               draped  embroidary  feathers  ...  pearls  plain  pleat  \\\n",
      "Recomnd_1_Yes       1           3         2  ...       0      1      1   \n",
      "Recomnd_0_No        1           2         0  ...       1      1      0   \n",
      "\n",
      "               pockets  rivet  ruched  ruffles  sashes  sequined  tassel  \n",
      "Recomnd_1_Yes        2      0       1        7      14         8       1  \n",
      "Recomnd_0_No         3      3       2       10      28         6       0  \n",
      "\n",
      "[2 rows x 24 columns]\n"
     ]
    }
   ],
   "source": [
    "# creating view for Observed table\n",
    "\n",
    "df_deco_Rec_view = {'Tiered': [0, 1], 'applique': [9, 12], 'beading': [13, 9], 'bow': [5, 10],'button': [2, 4], 'cascading': [0, 1], \n",
    "                  'crystal': [1, 2], 'draped': [1, 1], 'embroidary': [3, 2], 'feathers': [2, 0], 'flowers': [3, 1],'hollowout': [5, 16], \n",
    "                'lace': [32, 38], 'none': [1, 1], 'pearls': [0, 1], 'plain': [1, 1], 'pleat': [1, 0], 'pockets': [2, 3], \n",
    "                'rivet': [0, 3], 'ruched': [1,2], 'ruffles': [7,10], 'sashes': [14,28], 'sequined': [8, 6], 'tassel': [1,0] }\n",
    "\n",
    "\n",
    "df_deco_frq = pd.DataFrame(df_deco_Rec_view, columns = ['Tiered', 'applique', 'beading', 'bow', 'button', 'cascading','crystal', 'draped',\n",
    "                                                    'embroidary','feathers', 'flowers', 'hollowout', 'lace', 'none', 'pearls', 'plain', 'pleat',\n",
    "                                                      'pockets','rivet', 'ruched', 'ruffles', 'sashes', 'sequined', 'tassel'], \n",
    "                          index = ['Recomnd_1_Yes', 'Recomnd_0_No'])\n",
    "\n",
    "\n",
    "print('Observed table: ')\n",
    "print('*' * 50 )\n",
    "print(df_deco_frq)"
   ]
  },
  {
   "cell_type": "code",
   "execution_count": 22,
   "metadata": {},
   "outputs": [],
   "source": [
    "# H0: No significant relationship between Decoration type and product recommendation.\n",
    "# H1: There is significant relationship between Decoration type and product recommendation.\n",
    "\n",
    "#Now we need to create expected table for the above null hypothesis. Formula -> E = ((row total * column total) / grand total)\n",
    "\n",
    "Obsv_lst = [0,1,9,12,13,9,5,10,2,4,0,1,1,2,1,1,3,2,2,0,3,1,5,16,32,38,1,1,0,1,1,1,1,0,2,3,0,3,1,2,7,10,14,28,8,6,1,0]\n",
    "\n",
    "# Total for all combinations\n",
    "grand_Total = sum(Obsv_lst)\n",
    "\n",
    "# Total sum column wise\n",
    "To_cls = df_deco_frq.sum(axis=0)\n",
    "\n",
    "# Total sum row wise\n",
    "To_rows = df_deco_frq.sum(axis=1)"
   ]
  },
  {
   "cell_type": "code",
   "execution_count": 23,
   "metadata": {},
   "outputs": [
    {
     "name": "stdout",
     "output_type": "stream",
     "text": [
      "The expected list is:  [0.42424242424242425, 0.5757575757575758, 8.909090909090908, 12.090909090909092, 9.333333333333334, 12.666666666666666, 6.363636363636363, 8.636363636363637, 2.5454545454545454, 3.4545454545454546, 0.42424242424242425, 0.5757575757575758, 1.2727272727272727, 1.7272727272727273, 0.8484848484848485, 1.1515151515151516, 2.121212121212121, 2.878787878787879, 0.8484848484848485, 1.1515151515151516, 1.696969696969697, 2.303030303030303, 8.909090909090908, 12.090909090909092, 29.696969696969695, 40.303030303030305, 0.8484848484848485, 1.1515151515151516, 0.42424242424242425, 0.5757575757575758, 0.8484848484848485, 1.1515151515151516, 0.42424242424242425, 0.5757575757575758, 2.121212121212121, 2.878787878787879, 1.2727272727272727, 1.7272727272727273, 1.2727272727272727, 1.7272727272727273, 7.212121212121212, 9.787878787878787, 17.818181818181817, 24.181818181818183, 5.9393939393939394, 8.06060606060606, 0.42424242424242425, 0.5757575757575758]\n"
     ]
    }
   ],
   "source": [
    "# Now creating the expected list corresponding to the observed list\n",
    "\n",
    "def exp_list(To_cls, To_rows):\n",
    "    Expected_lst = []\n",
    "    for i in range(len(To_cls)):\n",
    "        for j in range(len(To_rows)):\n",
    "            res = (To_cls[i] * To_rows[j]) / grand_Total\n",
    "            Expected_lst.append(res)\n",
    "            \n",
    "    return Expected_lst\n",
    "\n",
    "Expects_lst = exp_list(To_cls, To_rows)\n",
    "print('The expected list is: ', Expects_lst)"
   ]
  },
  {
   "cell_type": "code",
   "execution_count": 24,
   "metadata": {},
   "outputs": [
    {
     "name": "stdout",
     "output_type": "stream",
     "text": [
      "Calculated Chi-Square value is:  21.752592089467363\n"
     ]
    }
   ],
   "source": [
    "# Now applying Chi-Square independence formula on Observed and Expected list\n",
    "\n",
    "Ob_vals = np.array(Obsv_lst) # observed value\n",
    "Ex_vals = np.array(Expects_lst) # expected value\n",
    "\n",
    "def chi_sqr(Ob_vals, Ex_vals):\n",
    "    results = (Ob_vals - Ex_vals)**2 # (O-E)**2\n",
    "    sum_sqr = 0\n",
    "    for ele in range(len(results)):\n",
    "        sum_sqr += (results[ele] / Ex_vals[ele])\n",
    "    return sum_sqr\n",
    "\n",
    "X_sqr = chi_sqr(Ob_vals, Ex_vals)\n",
    "\n",
    "print('Calculated Chi-Square value is: ', X_sqr)"
   ]
  },
  {
   "cell_type": "code",
   "execution_count": 25,
   "metadata": {},
   "outputs": [
    {
     "name": "stdout",
     "output_type": "stream",
     "text": [
      "Critical value of Chi-Square is:  32.670573340917315\n"
     ]
    }
   ],
   "source": [
    "# At significace level ∝ = 5% = 0.05\n",
    "# degree of freedom = (2-1) * (22-1) = 21\n",
    "\n",
    "# prob = 1-0.05 = 0.95\n",
    "p = 0.95\n",
    "dof = 21\n",
    "\n",
    "critical = chi2.ppf(p, dof)\n",
    "print('Critical value of Chi-Square is: ', critical)"
   ]
  },
  {
   "cell_type": "markdown",
   "metadata": {},
   "source": [
    "<font color='green'>\n",
    "    \n",
    "### Conclusions\n",
    "    \n",
    "The criticial value of Chi-Square is: Χ^2 = 32.67 at 5% level of significance. <br>\n",
    "Our computed value of Chi-Square is: Χ^2 = 21.75 <br>\n",
    "\n",
    "So, computed value falls in acceptance region. Hence we accept the Null Hypothesis. <br>\n",
    "Hence there is no significant relationship between Decoration type and product recommendation. at 5% level of significance.\n",
    "\n",
    "    \n",
    "</font>"
   ]
  },
  {
   "cell_type": "markdown",
   "metadata": {},
   "source": [
    "<font color='green'>\n",
    "    \n",
    "### Decission\n",
    "\n",
    "From Chi-Square test we observed that 'FabricType' and 'Decoration' columns are not significantly important for product recommendation, so we are dropping both the columns.\n",
    "\n",
    "    \n",
    "</font>"
   ]
  },
  {
   "cell_type": "code",
   "execution_count": 26,
   "metadata": {},
   "outputs": [],
   "source": [
    "# dropping FabricType and Decoration columns\n",
    "\n",
    "df_attr_drop = df_attr.drop(['FabricType', 'Decoration'], axis=1)"
   ]
  },
  {
   "cell_type": "code",
   "execution_count": 27,
   "metadata": {},
   "outputs": [
    {
     "name": "stdout",
     "output_type": "stream",
     "text": [
      "<class 'pandas.core.frame.DataFrame'>\n",
      "RangeIndex: 500 entries, 0 to 499\n",
      "Data columns (total 12 columns):\n",
      " #   Column          Non-Null Count  Dtype  \n",
      "---  ------          --------------  -----  \n",
      " 0   Dress_ID        500 non-null    int64  \n",
      " 1   Style           500 non-null    object \n",
      " 2   Price           498 non-null    object \n",
      " 3   Rating          500 non-null    float64\n",
      " 4   Size            500 non-null    object \n",
      " 5   Season          498 non-null    object \n",
      " 6   NeckLine        497 non-null    object \n",
      " 7   SleeveLength    498 non-null    object \n",
      " 8   waiseline       413 non-null    object \n",
      " 9   Material        372 non-null    object \n",
      " 10  Pattern Type    391 non-null    object \n",
      " 11  Recommendation  500 non-null    int64  \n",
      "dtypes: float64(1), int64(2), object(9)\n",
      "memory usage: 47.0+ KB\n"
     ]
    }
   ],
   "source": [
    "df_attr_drop.info()"
   ]
  },
  {
   "cell_type": "markdown",
   "metadata": {},
   "source": [
    "#### Other columns having less number of data missing, will be updated with 'Mode' value of that specific column to mitigate the null value data issue."
   ]
  },
  {
   "cell_type": "markdown",
   "metadata": {},
   "source": [
    "<font color='crimson'>\n",
    "    \n",
    "#### Less number of missing data columns are updated with mode value of that column\n",
    "    \n",
    "    \n",
    "</font>"
   ]
  },
  {
   "cell_type": "code",
   "execution_count": 28,
   "metadata": {},
   "outputs": [],
   "source": [
    "# updating other columns with the 'Mode' value as they have less number of data missing.\n",
    "\n",
    "\n",
    "colns = ['Price','Season', 'NeckLine', 'SleeveLength', 'waiseline', 'Material', 'Pattern Type']\n",
    "\n",
    "df_attr_drop[colns] = df_attr_drop[colns].fillna(df_attr_drop.mode().iloc[0])"
   ]
  },
  {
   "cell_type": "code",
   "execution_count": 29,
   "metadata": {},
   "outputs": [
    {
     "name": "stdout",
     "output_type": "stream",
     "text": [
      "<class 'pandas.core.frame.DataFrame'>\n",
      "RangeIndex: 500 entries, 0 to 499\n",
      "Data columns (total 12 columns):\n",
      " #   Column          Non-Null Count  Dtype  \n",
      "---  ------          --------------  -----  \n",
      " 0   Dress_ID        500 non-null    int64  \n",
      " 1   Style           500 non-null    object \n",
      " 2   Price           500 non-null    object \n",
      " 3   Rating          500 non-null    float64\n",
      " 4   Size            500 non-null    object \n",
      " 5   Season          500 non-null    object \n",
      " 6   NeckLine        500 non-null    object \n",
      " 7   SleeveLength    500 non-null    object \n",
      " 8   waiseline       500 non-null    object \n",
      " 9   Material        500 non-null    object \n",
      " 10  Pattern Type    500 non-null    object \n",
      " 11  Recommendation  500 non-null    int64  \n",
      "dtypes: float64(1), int64(2), object(9)\n",
      "memory usage: 47.0+ KB\n"
     ]
    }
   ],
   "source": [
    "df_attr_drop.info()"
   ]
  },
  {
   "cell_type": "markdown",
   "metadata": {},
   "source": [
    "<font color='crimson'>\n",
    "    \n",
    "#### Zero values in the 'Rating' column updated with mean value of the column\n",
    "    \n",
    "    \n",
    "</font>"
   ]
  },
  {
   "cell_type": "code",
   "execution_count": 30,
   "metadata": {},
   "outputs": [],
   "source": [
    "df_attr_drop['Rating'].replace(0.0, df_attr_drop['Rating'].mean(axis=0), inplace=True)"
   ]
  },
  {
   "cell_type": "code",
   "execution_count": 31,
   "metadata": {},
   "outputs": [
    {
     "data": {
      "text/plain": [
       "<matplotlib.axes._subplots.AxesSubplot at 0x12586fd5c18>"
      ]
     },
     "execution_count": 31,
     "metadata": {},
     "output_type": "execute_result"
    },
    {
     "data": {
      "image/png": "[encoded data removed]",
      "text/plain": [
       "<Figure size 432x288 with 1 Axes>"
      ]
     },
     "metadata": {},
     "output_type": "display_data"
    }
   ],
   "source": [
    "# Verifying the distribution again for the 'Rating' column -\n",
    "\n",
    "sns.distplot(df_attr_drop['Rating'])"
   ]
  },
  {
   "cell_type": "code",
   "execution_count": 32,
   "metadata": {},
   "outputs": [
    {
     "data": {
      "text/html": [
       "<div>\n",
       "<style scoped>\n",
       "    .dataframe tbody tr th:only-of-type {\n",
       "        vertical-align: middle;\n",
       "    }\n",
       "\n",
       "    .dataframe tbody tr th {\n",
       "        vertical-align: top;\n",
       "    }\n",
       "\n",
       "    .dataframe thead th {\n",
       "        text-align: right;\n",
       "    }\n",
       "</style>\n",
       "<table border=\"1\" class=\"dataframe\">\n",
       "  <thead>\n",
       "    <tr style=\"text-align: right;\">\n",
       "      <th></th>\n",
       "      <th>Dress_ID</th>\n",
       "      <th>Style</th>\n",
       "      <th>Price</th>\n",
       "      <th>Rating</th>\n",
       "      <th>Size</th>\n",
       "      <th>Season</th>\n",
       "      <th>NeckLine</th>\n",
       "      <th>SleeveLength</th>\n",
       "      <th>waiseline</th>\n",
       "      <th>Material</th>\n",
       "      <th>Pattern Type</th>\n",
       "      <th>Recommendation</th>\n",
       "    </tr>\n",
       "  </thead>\n",
       "  <tbody>\n",
       "    <tr>\n",
       "      <th>0</th>\n",
       "      <td>1006032852</td>\n",
       "      <td>Sexy</td>\n",
       "      <td>Low</td>\n",
       "      <td>4.6000</td>\n",
       "      <td>M</td>\n",
       "      <td>Summer</td>\n",
       "      <td>o-neck</td>\n",
       "      <td>Sleeveless</td>\n",
       "      <td>empire</td>\n",
       "      <td>cotton</td>\n",
       "      <td>animal</td>\n",
       "      <td>1</td>\n",
       "    </tr>\n",
       "    <tr>\n",
       "      <th>1</th>\n",
       "      <td>1212192089</td>\n",
       "      <td>Casual</td>\n",
       "      <td>Low</td>\n",
       "      <td>3.5286</td>\n",
       "      <td>L</td>\n",
       "      <td>Summer</td>\n",
       "      <td>o-neck</td>\n",
       "      <td>Petal</td>\n",
       "      <td>natural</td>\n",
       "      <td>microfiber</td>\n",
       "      <td>animal</td>\n",
       "      <td>0</td>\n",
       "    </tr>\n",
       "    <tr>\n",
       "      <th>2</th>\n",
       "      <td>1190380701</td>\n",
       "      <td>vintage</td>\n",
       "      <td>High</td>\n",
       "      <td>3.5286</td>\n",
       "      <td>L</td>\n",
       "      <td>Autumn</td>\n",
       "      <td>o-neck</td>\n",
       "      <td>full</td>\n",
       "      <td>natural</td>\n",
       "      <td>polyster</td>\n",
       "      <td>print</td>\n",
       "      <td>0</td>\n",
       "    </tr>\n",
       "    <tr>\n",
       "      <th>3</th>\n",
       "      <td>966005983</td>\n",
       "      <td>Brief</td>\n",
       "      <td>Average</td>\n",
       "      <td>4.6000</td>\n",
       "      <td>L</td>\n",
       "      <td>Spring</td>\n",
       "      <td>o-neck</td>\n",
       "      <td>full</td>\n",
       "      <td>natural</td>\n",
       "      <td>silk</td>\n",
       "      <td>print</td>\n",
       "      <td>1</td>\n",
       "    </tr>\n",
       "    <tr>\n",
       "      <th>4</th>\n",
       "      <td>876339541</td>\n",
       "      <td>cute</td>\n",
       "      <td>Low</td>\n",
       "      <td>4.5000</td>\n",
       "      <td>M</td>\n",
       "      <td>Summer</td>\n",
       "      <td>o-neck</td>\n",
       "      <td>butterfly</td>\n",
       "      <td>natural</td>\n",
       "      <td>chiffonfabric</td>\n",
       "      <td>dot</td>\n",
       "      <td>0</td>\n",
       "    </tr>\n",
       "  </tbody>\n",
       "</table>\n",
       "</div>"
      ],
      "text/plain": [
       "     Dress_ID    Style    Price  Rating Size  Season NeckLine SleeveLength  \\\n",
       "0  1006032852     Sexy      Low  4.6000    M  Summer   o-neck   Sleeveless   \n",
       "1  1212192089   Casual      Low  3.5286    L  Summer   o-neck        Petal   \n",
       "2  1190380701  vintage     High  3.5286    L  Autumn   o-neck         full   \n",
       "3   966005983    Brief  Average  4.6000    L  Spring   o-neck         full   \n",
       "4   876339541     cute      Low  4.5000    M  Summer   o-neck    butterfly   \n",
       "\n",
       "  waiseline       Material Pattern Type  Recommendation  \n",
       "0    empire         cotton       animal               1  \n",
       "1   natural     microfiber       animal               0  \n",
       "2   natural       polyster        print               0  \n",
       "3   natural           silk        print               1  \n",
       "4   natural  chiffonfabric          dot               0  "
      ]
     },
     "execution_count": 32,
     "metadata": {},
     "output_type": "execute_result"
    }
   ],
   "source": [
    "df_attr_drop.head()"
   ]
  },
  {
   "cell_type": "markdown",
   "metadata": {},
   "source": [
    "<font color='darkorange'>\n",
    "    \n",
    "### Analysis of the Sales dataset \n",
    "    \n",
    "    \n",
    "</font>"
   ]
  },
  {
   "cell_type": "code",
   "execution_count": 33,
   "metadata": {},
   "outputs": [],
   "source": [
    "# Reading 2nd data excel containing Sales records and corresponding dresses ID.\n",
    "\n",
    "df_sales = pd.read_excel('Dress Sales.xlsx')"
   ]
  },
  {
   "cell_type": "code",
   "execution_count": 34,
   "metadata": {},
   "outputs": [
    {
     "data": {
      "text/html": [
       "<div>\n",
       "<style scoped>\n",
       "    .dataframe tbody tr th:only-of-type {\n",
       "        vertical-align: middle;\n",
       "    }\n",
       "\n",
       "    .dataframe tbody tr th {\n",
       "        vertical-align: top;\n",
       "    }\n",
       "\n",
       "    .dataframe thead th {\n",
       "        text-align: right;\n",
       "    }\n",
       "</style>\n",
       "<table border=\"1\" class=\"dataframe\">\n",
       "  <thead>\n",
       "    <tr style=\"text-align: right;\">\n",
       "      <th></th>\n",
       "      <th>Dress_ID</th>\n",
       "      <th>29/8/2013</th>\n",
       "      <th>31/8/2013</th>\n",
       "      <th>2013-02-09 00:00:00</th>\n",
       "      <th>2013-04-09 00:00:00</th>\n",
       "      <th>2013-06-09 00:00:00</th>\n",
       "      <th>2013-08-09 00:00:00</th>\n",
       "      <th>2013-10-09 00:00:00</th>\n",
       "      <th>2013-12-09 00:00:00</th>\n",
       "      <th>14/9/2013</th>\n",
       "      <th>...</th>\n",
       "      <th>24/9/2013</th>\n",
       "      <th>26/9/2013</th>\n",
       "      <th>28/9/2013</th>\n",
       "      <th>30/9/2013</th>\n",
       "      <th>2013-02-10 00:00:00</th>\n",
       "      <th>2013-04-10 00:00:00</th>\n",
       "      <th>2013-06-10 00:00:00</th>\n",
       "      <th>2010-08-10 00:00:00</th>\n",
       "      <th>2013-10-10 00:00:00</th>\n",
       "      <th>2013-12-10 00:00:00</th>\n",
       "    </tr>\n",
       "  </thead>\n",
       "  <tbody>\n",
       "    <tr>\n",
       "      <th>0</th>\n",
       "      <td>1006032852</td>\n",
       "      <td>2114</td>\n",
       "      <td>2274</td>\n",
       "      <td>2491</td>\n",
       "      <td>2660</td>\n",
       "      <td>2727</td>\n",
       "      <td>2887</td>\n",
       "      <td>2930</td>\n",
       "      <td>3119</td>\n",
       "      <td>3204</td>\n",
       "      <td>...</td>\n",
       "      <td>3554</td>\n",
       "      <td>3624.0</td>\n",
       "      <td>3706</td>\n",
       "      <td>3746.0</td>\n",
       "      <td>3795.0</td>\n",
       "      <td>3832.0</td>\n",
       "      <td>3897</td>\n",
       "      <td>3923.0</td>\n",
       "      <td>3985.0</td>\n",
       "      <td>4048</td>\n",
       "    </tr>\n",
       "    <tr>\n",
       "      <th>1</th>\n",
       "      <td>1212192089</td>\n",
       "      <td>151</td>\n",
       "      <td>275</td>\n",
       "      <td>570</td>\n",
       "      <td>750</td>\n",
       "      <td>813</td>\n",
       "      <td>1066</td>\n",
       "      <td>1164</td>\n",
       "      <td>1558</td>\n",
       "      <td>1756</td>\n",
       "      <td>...</td>\n",
       "      <td>2710</td>\n",
       "      <td>2942.0</td>\n",
       "      <td>3258</td>\n",
       "      <td>3354.0</td>\n",
       "      <td>3475.0</td>\n",
       "      <td>3654.0</td>\n",
       "      <td>3911</td>\n",
       "      <td>4024.0</td>\n",
       "      <td>4125.0</td>\n",
       "      <td>4277</td>\n",
       "    </tr>\n",
       "    <tr>\n",
       "      <th>2</th>\n",
       "      <td>1190380701</td>\n",
       "      <td>6</td>\n",
       "      <td>7</td>\n",
       "      <td>7</td>\n",
       "      <td>7</td>\n",
       "      <td>8</td>\n",
       "      <td>8</td>\n",
       "      <td>9</td>\n",
       "      <td>10</td>\n",
       "      <td>10</td>\n",
       "      <td>...</td>\n",
       "      <td>11</td>\n",
       "      <td>11.0</td>\n",
       "      <td>11</td>\n",
       "      <td>11.0</td>\n",
       "      <td>11.0</td>\n",
       "      <td>11.0</td>\n",
       "      <td>11</td>\n",
       "      <td>11.0</td>\n",
       "      <td>11.0</td>\n",
       "      <td>11</td>\n",
       "    </tr>\n",
       "    <tr>\n",
       "      <th>3</th>\n",
       "      <td>966005983</td>\n",
       "      <td>1005</td>\n",
       "      <td>1128</td>\n",
       "      <td>1326</td>\n",
       "      <td>1455</td>\n",
       "      <td>1507</td>\n",
       "      <td>1621</td>\n",
       "      <td>1637</td>\n",
       "      <td>1723</td>\n",
       "      <td>1746</td>\n",
       "      <td>...</td>\n",
       "      <td>1878</td>\n",
       "      <td>1892.0</td>\n",
       "      <td>1914</td>\n",
       "      <td>1924.0</td>\n",
       "      <td>1929.0</td>\n",
       "      <td>1941.0</td>\n",
       "      <td>1952</td>\n",
       "      <td>1955.0</td>\n",
       "      <td>1959.0</td>\n",
       "      <td>1963</td>\n",
       "    </tr>\n",
       "    <tr>\n",
       "      <th>4</th>\n",
       "      <td>876339541</td>\n",
       "      <td>996</td>\n",
       "      <td>1175</td>\n",
       "      <td>1304</td>\n",
       "      <td>1396</td>\n",
       "      <td>1432</td>\n",
       "      <td>1559</td>\n",
       "      <td>1570</td>\n",
       "      <td>1638</td>\n",
       "      <td>1655</td>\n",
       "      <td>...</td>\n",
       "      <td>2032</td>\n",
       "      <td>2156.0</td>\n",
       "      <td>2252</td>\n",
       "      <td>2312.0</td>\n",
       "      <td>2387.0</td>\n",
       "      <td>2459.0</td>\n",
       "      <td>2544</td>\n",
       "      <td>2614.0</td>\n",
       "      <td>2693.0</td>\n",
       "      <td>2736</td>\n",
       "    </tr>\n",
       "  </tbody>\n",
       "</table>\n",
       "<p>5 rows × 24 columns</p>\n",
       "</div>"
      ],
      "text/plain": [
       "     Dress_ID  29/8/2013  31/8/2013  2013-02-09 00:00:00  2013-04-09 00:00:00  \\\n",
       "0  1006032852       2114       2274                 2491                 2660   \n",
       "1  1212192089        151        275                  570                  750   \n",
       "2  1190380701          6          7                    7                    7   \n",
       "3   966005983       1005       1128                 1326                 1455   \n",
       "4   876339541        996       1175                 1304                 1396   \n",
       "\n",
       "   2013-06-09 00:00:00  2013-08-09 00:00:00  2013-10-09 00:00:00  \\\n",
       "0                 2727                 2887                 2930   \n",
       "1                  813                 1066                 1164   \n",
       "2                    8                    8                    9   \n",
       "3                 1507                 1621                 1637   \n",
       "4                 1432                 1559                 1570   \n",
       "\n",
       "  2013-12-09 00:00:00 14/9/2013  ... 24/9/2013 26/9/2013 28/9/2013 30/9/2013  \\\n",
       "0                3119      3204  ...      3554    3624.0      3706    3746.0   \n",
       "1                1558      1756  ...      2710    2942.0      3258    3354.0   \n",
       "2                  10        10  ...        11      11.0        11      11.0   \n",
       "3                1723      1746  ...      1878    1892.0      1914    1924.0   \n",
       "4                1638      1655  ...      2032    2156.0      2252    2312.0   \n",
       "\n",
       "   2013-02-10 00:00:00  2013-04-10 00:00:00  2013-06-10 00:00:00  \\\n",
       "0               3795.0               3832.0                 3897   \n",
       "1               3475.0               3654.0                 3911   \n",
       "2                 11.0                 11.0                   11   \n",
       "3               1929.0               1941.0                 1952   \n",
       "4               2387.0               2459.0                 2544   \n",
       "\n",
       "   2010-08-10 00:00:00  2013-10-10 00:00:00  2013-12-10 00:00:00  \n",
       "0               3923.0               3985.0                 4048  \n",
       "1               4024.0               4125.0                 4277  \n",
       "2                 11.0                 11.0                   11  \n",
       "3               1955.0               1959.0                 1963  \n",
       "4               2614.0               2693.0                 2736  \n",
       "\n",
       "[5 rows x 24 columns]"
      ]
     },
     "execution_count": 34,
     "metadata": {},
     "output_type": "execute_result"
    }
   ],
   "source": [
    "# Verifying first 5 records in the data excel\n",
    "\n",
    "df_sales.head()"
   ]
  },
  {
   "cell_type": "code",
   "execution_count": 35,
   "metadata": {},
   "outputs": [
    {
     "data": {
      "text/html": [
       "<div>\n",
       "<style scoped>\n",
       "    .dataframe tbody tr th:only-of-type {\n",
       "        vertical-align: middle;\n",
       "    }\n",
       "\n",
       "    .dataframe tbody tr th {\n",
       "        vertical-align: top;\n",
       "    }\n",
       "\n",
       "    .dataframe thead th {\n",
       "        text-align: right;\n",
       "    }\n",
       "</style>\n",
       "<table border=\"1\" class=\"dataframe\">\n",
       "  <thead>\n",
       "    <tr style=\"text-align: right;\">\n",
       "      <th></th>\n",
       "      <th>Dress_ID</th>\n",
       "      <th>29/8/2013</th>\n",
       "      <th>31/8/2013</th>\n",
       "      <th>2013-02-09 00:00:00</th>\n",
       "      <th>2013-04-09 00:00:00</th>\n",
       "      <th>2013-06-09 00:00:00</th>\n",
       "      <th>2013-08-09 00:00:00</th>\n",
       "      <th>2013-10-09 00:00:00</th>\n",
       "      <th>2013-12-09 00:00:00</th>\n",
       "      <th>14/9/2013</th>\n",
       "      <th>...</th>\n",
       "      <th>24/9/2013</th>\n",
       "      <th>26/9/2013</th>\n",
       "      <th>28/9/2013</th>\n",
       "      <th>30/9/2013</th>\n",
       "      <th>2013-02-10 00:00:00</th>\n",
       "      <th>2013-04-10 00:00:00</th>\n",
       "      <th>2013-06-10 00:00:00</th>\n",
       "      <th>2010-08-10 00:00:00</th>\n",
       "      <th>2013-10-10 00:00:00</th>\n",
       "      <th>2013-12-10 00:00:00</th>\n",
       "    </tr>\n",
       "  </thead>\n",
       "  <tbody>\n",
       "    <tr>\n",
       "      <th>495</th>\n",
       "      <td>713391965</td>\n",
       "      <td>0</td>\n",
       "      <td>0</td>\n",
       "      <td>0</td>\n",
       "      <td>560</td>\n",
       "      <td>554</td>\n",
       "      <td>544</td>\n",
       "      <td>537</td>\n",
       "      <td>525</td>\n",
       "      <td>519</td>\n",
       "      <td>...</td>\n",
       "      <td>400</td>\n",
       "      <td>388.0</td>\n",
       "      <td>360</td>\n",
       "      <td>364.0</td>\n",
       "      <td>372.0</td>\n",
       "      <td>377.0</td>\n",
       "      <td>380</td>\n",
       "      <td>382.0</td>\n",
       "      <td>384.0</td>\n",
       "      <td>285</td>\n",
       "    </tr>\n",
       "    <tr>\n",
       "      <th>496</th>\n",
       "      <td>722565148</td>\n",
       "      <td>0</td>\n",
       "      <td>0</td>\n",
       "      <td>0</td>\n",
       "      <td>875</td>\n",
       "      <td>866</td>\n",
       "      <td>861</td>\n",
       "      <td>854</td>\n",
       "      <td>850</td>\n",
       "      <td>844</td>\n",
       "      <td>...</td>\n",
       "      <td>859</td>\n",
       "      <td>866.0</td>\n",
       "      <td>882</td>\n",
       "      <td>888.0</td>\n",
       "      <td>895.0</td>\n",
       "      <td>898.0</td>\n",
       "      <td>906</td>\n",
       "      <td>913.0</td>\n",
       "      <td>919.0</td>\n",
       "      <td>931</td>\n",
       "    </tr>\n",
       "    <tr>\n",
       "      <th>497</th>\n",
       "      <td>532874347</td>\n",
       "      <td>0</td>\n",
       "      <td>0</td>\n",
       "      <td>0</td>\n",
       "      <td>734</td>\n",
       "      <td>728</td>\n",
       "      <td>726</td>\n",
       "      <td>715</td>\n",
       "      <td>694</td>\n",
       "      <td>690</td>\n",
       "      <td>...</td>\n",
       "      <td>616</td>\n",
       "      <td>597.0</td>\n",
       "      <td>586</td>\n",
       "      <td>569.0</td>\n",
       "      <td>561.0</td>\n",
       "      <td>555.0</td>\n",
       "      <td>551</td>\n",
       "      <td>546.0</td>\n",
       "      <td>535.0</td>\n",
       "      <td>520</td>\n",
       "    </tr>\n",
       "    <tr>\n",
       "      <th>498</th>\n",
       "      <td>655464934</td>\n",
       "      <td>0</td>\n",
       "      <td>0</td>\n",
       "      <td>0</td>\n",
       "      <td>254</td>\n",
       "      <td>259</td>\n",
       "      <td>261</td>\n",
       "      <td>263</td>\n",
       "      <td>268</td>\n",
       "      <td>270</td>\n",
       "      <td>...</td>\n",
       "      <td>257</td>\n",
       "      <td>256.0</td>\n",
       "      <td>255</td>\n",
       "      <td>254.0</td>\n",
       "      <td>253.0</td>\n",
       "      <td>250.0</td>\n",
       "      <td>249</td>\n",
       "      <td>249.0</td>\n",
       "      <td>249.0</td>\n",
       "      <td>248</td>\n",
       "    </tr>\n",
       "    <tr>\n",
       "      <th>499</th>\n",
       "      <td>919930954</td>\n",
       "      <td>0</td>\n",
       "      <td>0</td>\n",
       "      <td>0</td>\n",
       "      <td>538</td>\n",
       "      <td>545</td>\n",
       "      <td>558</td>\n",
       "      <td>563</td>\n",
       "      <td>578</td>\n",
       "      <td>585</td>\n",
       "      <td>...</td>\n",
       "      <td>628</td>\n",
       "      <td>632.0</td>\n",
       "      <td>639</td>\n",
       "      <td>645.0</td>\n",
       "      <td>651.0</td>\n",
       "      <td>655.0</td>\n",
       "      <td>660</td>\n",
       "      <td>668.0</td>\n",
       "      <td>674.0</td>\n",
       "      <td>680</td>\n",
       "    </tr>\n",
       "  </tbody>\n",
       "</table>\n",
       "<p>5 rows × 24 columns</p>\n",
       "</div>"
      ],
      "text/plain": [
       "      Dress_ID  29/8/2013  31/8/2013  2013-02-09 00:00:00  \\\n",
       "495  713391965          0          0                    0   \n",
       "496  722565148          0          0                    0   \n",
       "497  532874347          0          0                    0   \n",
       "498  655464934          0          0                    0   \n",
       "499  919930954          0          0                    0   \n",
       "\n",
       "     2013-04-09 00:00:00  2013-06-09 00:00:00  2013-08-09 00:00:00  \\\n",
       "495                  560                  554                  544   \n",
       "496                  875                  866                  861   \n",
       "497                  734                  728                  726   \n",
       "498                  254                  259                  261   \n",
       "499                  538                  545                  558   \n",
       "\n",
       "     2013-10-09 00:00:00 2013-12-09 00:00:00 14/9/2013  ... 24/9/2013  \\\n",
       "495                  537                 525       519  ...       400   \n",
       "496                  854                 850       844  ...       859   \n",
       "497                  715                 694       690  ...       616   \n",
       "498                  263                 268       270  ...       257   \n",
       "499                  563                 578       585  ...       628   \n",
       "\n",
       "    26/9/2013 28/9/2013 30/9/2013  2013-02-10 00:00:00  2013-04-10 00:00:00  \\\n",
       "495     388.0       360     364.0                372.0                377.0   \n",
       "496     866.0       882     888.0                895.0                898.0   \n",
       "497     597.0       586     569.0                561.0                555.0   \n",
       "498     256.0       255     254.0                253.0                250.0   \n",
       "499     632.0       639     645.0                651.0                655.0   \n",
       "\n",
       "     2013-06-10 00:00:00  2010-08-10 00:00:00  2013-10-10 00:00:00  \\\n",
       "495                  380                382.0                384.0   \n",
       "496                  906                913.0                919.0   \n",
       "497                  551                546.0                535.0   \n",
       "498                  249                249.0                249.0   \n",
       "499                  660                668.0                674.0   \n",
       "\n",
       "     2013-12-10 00:00:00  \n",
       "495                  285  \n",
       "496                  931  \n",
       "497                  520  \n",
       "498                  248  \n",
       "499                  680  \n",
       "\n",
       "[5 rows x 24 columns]"
      ]
     },
     "execution_count": 35,
     "metadata": {},
     "output_type": "execute_result"
    }
   ],
   "source": [
    "# Containing last 5 records in the data excel\n",
    "\n",
    "df_sales.tail()"
   ]
  },
  {
   "cell_type": "code",
   "execution_count": 36,
   "metadata": {},
   "outputs": [
    {
     "data": {
      "text/plain": [
       "(500, 24)"
      ]
     },
     "execution_count": 36,
     "metadata": {},
     "output_type": "execute_result"
    }
   ],
   "source": [
    "# Veirfying the overall data-size Row X Columns\n",
    "\n",
    "df_sales.shape"
   ]
  },
  {
   "cell_type": "code",
   "execution_count": 37,
   "metadata": {},
   "outputs": [
    {
     "name": "stdout",
     "output_type": "stream",
     "text": [
      "<class 'pandas.core.frame.DataFrame'>\n",
      "RangeIndex: 500 entries, 0 to 499\n",
      "Data columns (total 24 columns):\n",
      " #   Column               Non-Null Count  Dtype  \n",
      "---  ------               --------------  -----  \n",
      " 0   Dress_ID             500 non-null    int64  \n",
      " 1   29/8/2013            500 non-null    int64  \n",
      " 2   31/8/2013            500 non-null    int64  \n",
      " 3   2013-02-09 00:00:00  500 non-null    int64  \n",
      " 4   2013-04-09 00:00:00  500 non-null    int64  \n",
      " 5   2013-06-09 00:00:00  500 non-null    int64  \n",
      " 6   2013-08-09 00:00:00  500 non-null    int64  \n",
      " 7   2013-10-09 00:00:00  500 non-null    int64  \n",
      " 8   2013-12-09 00:00:00  500 non-null    object \n",
      " 9   14/9/2013            500 non-null    object \n",
      " 10  16/9/2013            500 non-null    object \n",
      " 11  18/9/2013            500 non-null    object \n",
      " 12  20/9/2013            500 non-null    object \n",
      " 13  22/9/2013            500 non-null    object \n",
      " 14  24/9/2013            500 non-null    int64  \n",
      " 15  26/9/2013            263 non-null    float64\n",
      " 16  28/9/2013            500 non-null    int64  \n",
      " 17  30/9/2013            227 non-null    float64\n",
      " 18  2013-02-10 00:00:00  225 non-null    float64\n",
      " 19  2013-04-10 00:00:00  226 non-null    float64\n",
      " 20  2013-06-10 00:00:00  500 non-null    int64  \n",
      " 21  2010-08-10 00:00:00  229 non-null    float64\n",
      " 22  2013-10-10 00:00:00  229 non-null    float64\n",
      " 23  2013-12-10 00:00:00  500 non-null    int64  \n",
      "dtypes: float64(6), int64(12), object(6)\n",
      "memory usage: 93.9+ KB\n"
     ]
    }
   ],
   "source": [
    "# Verifying the columns information in the Sales dataset\n",
    "\n",
    "df_sales.info()"
   ]
  },
  {
   "cell_type": "markdown",
   "metadata": {},
   "source": [
    "<font color='indigo'>\n",
    "    \n",
    "### Key Takeways\n",
    "    \n",
    "1. Column names are following date-time format, but they are not homogenous. In different formats - DD/MM/YYYY, yyyy-dd-mm h:m:s <br>\n",
    "2. 6-Columns are of object datatype, rest of them are int and float type.\n",
    "3. Many columns have data missing - but here zero value represents 'no sale', so we don't need to worry about that.\n",
    "    \n",
    "</font>"
   ]
  },
  {
   "cell_type": "markdown",
   "metadata": {},
   "source": [
    "<font color='orange'>\n",
    "    \n",
    "#### handling string value, and grouping sale data\n",
    "    \n",
    "    \n",
    "</font>"
   ]
  },
  {
   "cell_type": "code",
   "execution_count": 38,
   "metadata": {},
   "outputs": [],
   "source": [
    "# Dropping the Dress_ID column, and creating a new data frame\n",
    "\n",
    "df_sales_new = df_sales.drop(['Dress_ID'], axis=1)"
   ]
  },
  {
   "cell_type": "code",
   "execution_count": 39,
   "metadata": {},
   "outputs": [],
   "source": [
    "# Updating the column names in homogenous format\n",
    "\n",
    "df_sales_new.columns = pd.to_datetime(df_sales_new.columns)"
   ]
  },
  {
   "cell_type": "code",
   "execution_count": 40,
   "metadata": {},
   "outputs": [],
   "source": [
    "# Changing Object data type columns into float / int data type. It will help us to operate over the data-frame.\n",
    "\n",
    "for col in df_sales_new:\n",
    "    if df_sales_new[col].dtype == np.object:\n",
    "        df_sales_new[col] = pd.to_numeric(df_sales_new[col], errors = 'coerce')\n",
    "        "
   ]
  },
  {
   "cell_type": "code",
   "execution_count": 41,
   "metadata": {},
   "outputs": [
    {
     "name": "stdout",
     "output_type": "stream",
     "text": [
      "<class 'pandas.core.frame.DataFrame'>\n",
      "RangeIndex: 500 entries, 0 to 499\n",
      "Data columns (total 23 columns):\n",
      " #   Column               Non-Null Count  Dtype  \n",
      "---  ------               --------------  -----  \n",
      " 0   2013-08-29 00:00:00  500 non-null    int64  \n",
      " 1   2013-08-31 00:00:00  500 non-null    int64  \n",
      " 2   2013-02-09 00:00:00  500 non-null    int64  \n",
      " 3   2013-04-09 00:00:00  500 non-null    int64  \n",
      " 4   2013-06-09 00:00:00  500 non-null    int64  \n",
      " 5   2013-08-09 00:00:00  500 non-null    int64  \n",
      " 6   2013-10-09 00:00:00  500 non-null    int64  \n",
      " 7   2013-12-09 00:00:00  499 non-null    float64\n",
      " 8   2013-09-14 00:00:00  499 non-null    float64\n",
      " 9   2013-09-16 00:00:00  499 non-null    float64\n",
      " 10  2013-09-18 00:00:00  499 non-null    float64\n",
      " 11  2013-09-20 00:00:00  499 non-null    float64\n",
      " 12  2013-09-22 00:00:00  499 non-null    float64\n",
      " 13  2013-09-24 00:00:00  500 non-null    int64  \n",
      " 14  2013-09-26 00:00:00  263 non-null    float64\n",
      " 15  2013-09-28 00:00:00  500 non-null    int64  \n",
      " 16  2013-09-30 00:00:00  227 non-null    float64\n",
      " 17  2013-02-10 00:00:00  225 non-null    float64\n",
      " 18  2013-04-10 00:00:00  226 non-null    float64\n",
      " 19  2013-06-10 00:00:00  500 non-null    int64  \n",
      " 20  2010-08-10 00:00:00  229 non-null    float64\n",
      " 21  2013-10-10 00:00:00  229 non-null    float64\n",
      " 22  2013-12-10 00:00:00  500 non-null    int64  \n",
      "dtypes: float64(12), int64(11)\n",
      "memory usage: 90.0 KB\n"
     ]
    }
   ],
   "source": [
    "# Now verifying the column info - Column names are in good format, Object Dtype columns are changed to float type\n",
    "\n",
    "df_sales_new.info()"
   ]
  },
  {
   "cell_type": "code",
   "execution_count": 42,
   "metadata": {},
   "outputs": [
    {
     "data": {
      "text/plain": [
       "0      75979.0\n",
       "1      52256.0\n",
       "2        223.0\n",
       "3      39691.0\n",
       "4      44077.0\n",
       "        ...   \n",
       "495     8915.0\n",
       "496    17508.0\n",
       "497    12606.0\n",
       "498     5167.0\n",
       "499    12312.0\n",
       "Name: Total_Sale, Length: 500, dtype: float64"
      ]
     },
     "execution_count": 42,
     "metadata": {},
     "output_type": "execute_result"
    }
   ],
   "source": [
    "# Now we will get the row-sum of all the rows, so that we will come to know the total sale for a particular dress id\n",
    "\n",
    "df_sales_new['Total_Sale'] = df_sales_new.sum(axis=1, skipna = True)\n",
    "df_sales_new['Total_Sale']"
   ]
  },
  {
   "cell_type": "code",
   "execution_count": 43,
   "metadata": {},
   "outputs": [
    {
     "data": {
      "text/html": [
       "<div>\n",
       "<style scoped>\n",
       "    .dataframe tbody tr th:only-of-type {\n",
       "        vertical-align: middle;\n",
       "    }\n",
       "\n",
       "    .dataframe tbody tr th {\n",
       "        vertical-align: top;\n",
       "    }\n",
       "\n",
       "    .dataframe thead th {\n",
       "        text-align: right;\n",
       "    }\n",
       "</style>\n",
       "<table border=\"1\" class=\"dataframe\">\n",
       "  <thead>\n",
       "    <tr style=\"text-align: right;\">\n",
       "      <th></th>\n",
       "      <th>Dress_ID</th>\n",
       "      <th>Total_Sale</th>\n",
       "    </tr>\n",
       "  </thead>\n",
       "  <tbody>\n",
       "    <tr>\n",
       "      <th>0</th>\n",
       "      <td>1006032852</td>\n",
       "      <td>75979.0</td>\n",
       "    </tr>\n",
       "    <tr>\n",
       "      <th>1</th>\n",
       "      <td>1212192089</td>\n",
       "      <td>52256.0</td>\n",
       "    </tr>\n",
       "    <tr>\n",
       "      <th>2</th>\n",
       "      <td>1190380701</td>\n",
       "      <td>223.0</td>\n",
       "    </tr>\n",
       "    <tr>\n",
       "      <th>3</th>\n",
       "      <td>966005983</td>\n",
       "      <td>39691.0</td>\n",
       "    </tr>\n",
       "    <tr>\n",
       "      <th>4</th>\n",
       "      <td>876339541</td>\n",
       "      <td>44077.0</td>\n",
       "    </tr>\n",
       "    <tr>\n",
       "      <th>...</th>\n",
       "      <td>...</td>\n",
       "      <td>...</td>\n",
       "    </tr>\n",
       "    <tr>\n",
       "      <th>495</th>\n",
       "      <td>713391965</td>\n",
       "      <td>8915.0</td>\n",
       "    </tr>\n",
       "    <tr>\n",
       "      <th>496</th>\n",
       "      <td>722565148</td>\n",
       "      <td>17508.0</td>\n",
       "    </tr>\n",
       "    <tr>\n",
       "      <th>497</th>\n",
       "      <td>532874347</td>\n",
       "      <td>12606.0</td>\n",
       "    </tr>\n",
       "    <tr>\n",
       "      <th>498</th>\n",
       "      <td>655464934</td>\n",
       "      <td>5167.0</td>\n",
       "    </tr>\n",
       "    <tr>\n",
       "      <th>499</th>\n",
       "      <td>919930954</td>\n",
       "      <td>12312.0</td>\n",
       "    </tr>\n",
       "  </tbody>\n",
       "</table>\n",
       "<p>500 rows × 2 columns</p>\n",
       "</div>"
      ],
      "text/plain": [
       "       Dress_ID  Total_Sale\n",
       "0    1006032852     75979.0\n",
       "1    1212192089     52256.0\n",
       "2    1190380701       223.0\n",
       "3     966005983     39691.0\n",
       "4     876339541     44077.0\n",
       "..          ...         ...\n",
       "495   713391965      8915.0\n",
       "496   722565148     17508.0\n",
       "497   532874347     12606.0\n",
       "498   655464934      5167.0\n",
       "499   919930954     12312.0\n",
       "\n",
       "[500 rows x 2 columns]"
      ]
     },
     "execution_count": 43,
     "metadata": {},
     "output_type": "execute_result"
    }
   ],
   "source": [
    "# Now we will create a data frame containing only the dress_id and corresponding total sale\n",
    "\n",
    "data = [df_sales['Dress_ID'], df_sales_new['Total_Sale']]\n",
    "headers = ['Dress_ID', 'Total_Sale']\n",
    "df_total_sale = pd.concat(data, axis=1, keys = headers)\n",
    "df_total_sale"
   ]
  },
  {
   "cell_type": "code",
   "execution_count": 44,
   "metadata": {},
   "outputs": [
    {
     "name": "stdout",
     "output_type": "stream",
     "text": [
      "<class 'pandas.core.frame.DataFrame'>\n",
      "RangeIndex: 500 entries, 0 to 499\n",
      "Data columns (total 2 columns):\n",
      " #   Column      Non-Null Count  Dtype  \n",
      "---  ------      --------------  -----  \n",
      " 0   Dress_ID    500 non-null    int64  \n",
      " 1   Total_Sale  500 non-null    float64\n",
      "dtypes: float64(1), int64(1)\n",
      "memory usage: 7.9 KB\n"
     ]
    }
   ],
   "source": [
    "# Getting the column info for the newly created dataframe\n",
    "\n",
    "df_total_sale.info()"
   ]
  },
  {
   "cell_type": "code",
   "execution_count": 45,
   "metadata": {},
   "outputs": [
    {
     "data": {
      "text/plain": [
       "<matplotlib.axes._subplots.AxesSubplot at 0x125879fa208>"
      ]
     },
     "execution_count": 45,
     "metadata": {},
     "output_type": "execute_result"
    },
    {
     "data": {
      "image/png": "[encoded data removed]",
      "text/plain": [
       "<Figure size 432x288 with 1 Axes>"
      ]
     },
     "metadata": {},
     "output_type": "display_data"
    }
   ],
   "source": [
    "# Verifying the distribution for the 'Total_Sale' column -\n",
    "\n",
    "sns.distplot(df_total_sale['Total_Sale'])"
   ]
  },
  {
   "cell_type": "code",
   "execution_count": 46,
   "metadata": {},
   "outputs": [
    {
     "data": {
      "text/plain": [
       "6.0152325462191305"
      ]
     },
     "execution_count": 46,
     "metadata": {},
     "output_type": "execute_result"
    }
   ],
   "source": [
    "# checking the skewness of the above distribution\n",
    "df_total_sale['Total_Sale'].skew()"
   ]
  },
  {
   "cell_type": "markdown",
   "metadata": {},
   "source": [
    "### Observation:\n",
    "\n",
    "Total_sale data is not following perfect normal distribution, it has a long right leg - so the distribution is right skewed.\n",
    "We need to perform some transformation on the column to give it a normal distribution shape. <br>\n",
    "<br>\n",
    "Current skewness value is -> 6.015"
   ]
  },
  {
   "cell_type": "markdown",
   "metadata": {},
   "source": [
    "<font color='crimson'>\n",
    "    \n",
    "#### Log Transform\n",
    "    \n",
    "    \n",
    "</font>"
   ]
  },
  {
   "cell_type": "code",
   "execution_count": 47,
   "metadata": {},
   "outputs": [
    {
     "data": {
      "text/plain": [
       "-0.6879352339554248"
      ]
     },
     "execution_count": 47,
     "metadata": {},
     "output_type": "execute_result"
    }
   ],
   "source": [
    "# log Transform\n",
    "\n",
    "skew_handle = np.log(df_total_sale['Total_Sale'])\n",
    "skew_handle.skew()"
   ]
  },
  {
   "cell_type": "code",
   "execution_count": 48,
   "metadata": {},
   "outputs": [
    {
     "data": {
      "text/plain": [
       "<matplotlib.axes._subplots.AxesSubplot at 0x12587b29160>"
      ]
     },
     "execution_count": 48,
     "metadata": {},
     "output_type": "execute_result"
    },
    {
     "data": {
      "image/png": "[encoded data removed]",
      "text/plain": [
       "<Figure size 432x288 with 1 Axes>"
      ]
     },
     "metadata": {},
     "output_type": "display_data"
    }
   ],
   "source": [
    "# Checking the distribution of the transformed data\n",
    "\n",
    "sns.distplot(skew_handle)"
   ]
  },
  {
   "cell_type": "markdown",
   "metadata": {},
   "source": [
    "<font color='crimson'>\n",
    "    \n",
    "#### Square Root Transform\n",
    "    \n",
    "    \n",
    "</font>"
   ]
  },
  {
   "cell_type": "code",
   "execution_count": 49,
   "metadata": {},
   "outputs": [
    {
     "data": {
      "text/plain": [
       "2.171590073295605"
      ]
     },
     "execution_count": 49,
     "metadata": {},
     "output_type": "execute_result"
    }
   ],
   "source": [
    "# Square Root Transform\n",
    "\n",
    "sqrt_skew_handle = np.sqrt(df_total_sale['Total_Sale'])\n",
    "sqrt_skew_handle.skew()"
   ]
  },
  {
   "cell_type": "code",
   "execution_count": 50,
   "metadata": {},
   "outputs": [
    {
     "data": {
      "text/plain": [
       "<matplotlib.axes._subplots.AxesSubplot at 0x12587b5d470>"
      ]
     },
     "execution_count": 50,
     "metadata": {},
     "output_type": "execute_result"
    },
    {
     "data": {
      "image/png": "[encoded data removed]",
      "text/plain": [
       "<Figure size 432x288 with 1 Axes>"
      ]
     },
     "metadata": {},
     "output_type": "display_data"
    }
   ],
   "source": [
    "sns.distplot(sqrt_skew_handle)"
   ]
  },
  {
   "cell_type": "markdown",
   "metadata": {},
   "source": [
    "<font color='crimson'>\n",
    "    \n",
    "#### Box-Cox Transform\n",
    "    \n",
    "    \n",
    "</font>"
   ]
  },
  {
   "cell_type": "code",
   "execution_count": 51,
   "metadata": {},
   "outputs": [
    {
     "data": {
      "text/plain": [
       "0.017196717275452442"
      ]
     },
     "execution_count": 51,
     "metadata": {},
     "output_type": "execute_result"
    }
   ],
   "source": [
    "# Box-Cox Transform\n",
    "\n",
    "boxcox_transform = stats.boxcox(df_total_sale['Total_Sale'])[0]\n",
    "pd.Series(boxcox_transform).skew()"
   ]
  },
  {
   "cell_type": "code",
   "execution_count": 52,
   "metadata": {},
   "outputs": [
    {
     "data": {
      "text/plain": [
       "<matplotlib.axes._subplots.AxesSubplot at 0x12587bce0f0>"
      ]
     },
     "execution_count": 52,
     "metadata": {},
     "output_type": "execute_result"
    },
    {
     "data": {
      "image/png": "[encoded data removed]",
      "text/plain": [
       "<Figure size 432x288 with 1 Axes>"
      ]
     },
     "metadata": {},
     "output_type": "display_data"
    }
   ],
   "source": [
    "# Checking the distribution of the transformed data\n",
    "\n",
    "sns.distplot(boxcox_transform)"
   ]
  },
  {
   "cell_type": "markdown",
   "metadata": {},
   "source": [
    "<font color='green'>\n",
    "    \n",
    "#### Skewness for Box-Cox transofrm is very low -> 0.0172, so we can choose this transform.\n",
    "    \n",
    "    \n",
    "</font>"
   ]
  },
  {
   "cell_type": "code",
   "execution_count": 53,
   "metadata": {},
   "outputs": [],
   "source": [
    "df_total_sale['Total_Sale'] = stats.boxcox(df_total_sale['Total_Sale'])[0]"
   ]
  },
  {
   "cell_type": "code",
   "execution_count": 54,
   "metadata": {},
   "outputs": [
    {
     "data": {
      "text/plain": [
       "0      24.628272\n",
       "1      23.135218\n",
       "2       7.730647\n",
       "3      22.081889\n",
       "4      22.479040\n",
       "         ...    \n",
       "495    16.954507\n",
       "496    19.153505\n",
       "497    18.060039\n",
       "498    15.308235\n",
       "499    17.983202\n",
       "Name: Total_Sale, Length: 500, dtype: float64"
      ]
     },
     "execution_count": 54,
     "metadata": {},
     "output_type": "execute_result"
    }
   ],
   "source": [
    "df_total_sale['Total_Sale']"
   ]
  },
  {
   "cell_type": "markdown",
   "metadata": {},
   "source": [
    "<font color='orange'>\n",
    "    \n",
    "#### Merging both the dataset and separating dependent (Y) and independent variable (X).\n",
    "    \n",
    "    \n",
    "    \n",
    "</font>"
   ]
  },
  {
   "cell_type": "code",
   "execution_count": 55,
   "metadata": {
    "scrolled": true
   },
   "outputs": [
    {
     "data": {
      "text/html": [
       "<div>\n",
       "<style scoped>\n",
       "    .dataframe tbody tr th:only-of-type {\n",
       "        vertical-align: middle;\n",
       "    }\n",
       "\n",
       "    .dataframe tbody tr th {\n",
       "        vertical-align: top;\n",
       "    }\n",
       "\n",
       "    .dataframe thead th {\n",
       "        text-align: right;\n",
       "    }\n",
       "</style>\n",
       "<table border=\"1\" class=\"dataframe\">\n",
       "  <thead>\n",
       "    <tr style=\"text-align: right;\">\n",
       "      <th></th>\n",
       "      <th>Dress_ID</th>\n",
       "      <th>Style</th>\n",
       "      <th>Price</th>\n",
       "      <th>Rating</th>\n",
       "      <th>Size</th>\n",
       "      <th>Season</th>\n",
       "      <th>NeckLine</th>\n",
       "      <th>SleeveLength</th>\n",
       "      <th>waiseline</th>\n",
       "      <th>Material</th>\n",
       "      <th>Pattern Type</th>\n",
       "      <th>Recommendation</th>\n",
       "      <th>Total_Sale</th>\n",
       "    </tr>\n",
       "  </thead>\n",
       "  <tbody>\n",
       "    <tr>\n",
       "      <th>0</th>\n",
       "      <td>1006032852</td>\n",
       "      <td>Sexy</td>\n",
       "      <td>Low</td>\n",
       "      <td>4.6000</td>\n",
       "      <td>M</td>\n",
       "      <td>Summer</td>\n",
       "      <td>o-neck</td>\n",
       "      <td>Sleeveless</td>\n",
       "      <td>empire</td>\n",
       "      <td>cotton</td>\n",
       "      <td>animal</td>\n",
       "      <td>1</td>\n",
       "      <td>24.628272</td>\n",
       "    </tr>\n",
       "    <tr>\n",
       "      <th>1</th>\n",
       "      <td>1212192089</td>\n",
       "      <td>Casual</td>\n",
       "      <td>Low</td>\n",
       "      <td>3.5286</td>\n",
       "      <td>L</td>\n",
       "      <td>Summer</td>\n",
       "      <td>o-neck</td>\n",
       "      <td>Petal</td>\n",
       "      <td>natural</td>\n",
       "      <td>microfiber</td>\n",
       "      <td>animal</td>\n",
       "      <td>0</td>\n",
       "      <td>23.135218</td>\n",
       "    </tr>\n",
       "    <tr>\n",
       "      <th>2</th>\n",
       "      <td>1190380701</td>\n",
       "      <td>vintage</td>\n",
       "      <td>High</td>\n",
       "      <td>3.5286</td>\n",
       "      <td>L</td>\n",
       "      <td>Autumn</td>\n",
       "      <td>o-neck</td>\n",
       "      <td>full</td>\n",
       "      <td>natural</td>\n",
       "      <td>polyster</td>\n",
       "      <td>print</td>\n",
       "      <td>0</td>\n",
       "      <td>7.730647</td>\n",
       "    </tr>\n",
       "    <tr>\n",
       "      <th>3</th>\n",
       "      <td>966005983</td>\n",
       "      <td>Brief</td>\n",
       "      <td>Average</td>\n",
       "      <td>4.6000</td>\n",
       "      <td>L</td>\n",
       "      <td>Spring</td>\n",
       "      <td>o-neck</td>\n",
       "      <td>full</td>\n",
       "      <td>natural</td>\n",
       "      <td>silk</td>\n",
       "      <td>print</td>\n",
       "      <td>1</td>\n",
       "      <td>22.081889</td>\n",
       "    </tr>\n",
       "    <tr>\n",
       "      <th>4</th>\n",
       "      <td>876339541</td>\n",
       "      <td>cute</td>\n",
       "      <td>Low</td>\n",
       "      <td>4.5000</td>\n",
       "      <td>M</td>\n",
       "      <td>Summer</td>\n",
       "      <td>o-neck</td>\n",
       "      <td>butterfly</td>\n",
       "      <td>natural</td>\n",
       "      <td>chiffonfabric</td>\n",
       "      <td>dot</td>\n",
       "      <td>0</td>\n",
       "      <td>22.479040</td>\n",
       "    </tr>\n",
       "    <tr>\n",
       "      <th>...</th>\n",
       "      <td>...</td>\n",
       "      <td>...</td>\n",
       "      <td>...</td>\n",
       "      <td>...</td>\n",
       "      <td>...</td>\n",
       "      <td>...</td>\n",
       "      <td>...</td>\n",
       "      <td>...</td>\n",
       "      <td>...</td>\n",
       "      <td>...</td>\n",
       "      <td>...</td>\n",
       "      <td>...</td>\n",
       "      <td>...</td>\n",
       "    </tr>\n",
       "    <tr>\n",
       "      <th>545</th>\n",
       "      <td>990559192</td>\n",
       "      <td>Brief</td>\n",
       "      <td>Average</td>\n",
       "      <td>4.7000</td>\n",
       "      <td>M</td>\n",
       "      <td>Winter</td>\n",
       "      <td>o-neck</td>\n",
       "      <td>half</td>\n",
       "      <td>natural</td>\n",
       "      <td>acrylic</td>\n",
       "      <td>striped</td>\n",
       "      <td>0</td>\n",
       "      <td>11.842336</td>\n",
       "    </tr>\n",
       "    <tr>\n",
       "      <th>546</th>\n",
       "      <td>713391965</td>\n",
       "      <td>Casual</td>\n",
       "      <td>Low</td>\n",
       "      <td>4.7000</td>\n",
       "      <td>M</td>\n",
       "      <td>Spring</td>\n",
       "      <td>o-neck</td>\n",
       "      <td>full</td>\n",
       "      <td>natural</td>\n",
       "      <td>polyster</td>\n",
       "      <td>solid</td>\n",
       "      <td>1</td>\n",
       "      <td>16.954507</td>\n",
       "    </tr>\n",
       "    <tr>\n",
       "      <th>547</th>\n",
       "      <td>532874347</td>\n",
       "      <td>Casual</td>\n",
       "      <td>Average</td>\n",
       "      <td>4.7000</td>\n",
       "      <td>M</td>\n",
       "      <td>Summer</td>\n",
       "      <td>v-neck</td>\n",
       "      <td>full</td>\n",
       "      <td>empire</td>\n",
       "      <td>cotton</td>\n",
       "      <td>solid</td>\n",
       "      <td>1</td>\n",
       "      <td>18.060039</td>\n",
       "    </tr>\n",
       "    <tr>\n",
       "      <th>548</th>\n",
       "      <td>655464934</td>\n",
       "      <td>Casual</td>\n",
       "      <td>Average</td>\n",
       "      <td>4.6000</td>\n",
       "      <td>L</td>\n",
       "      <td>Winter</td>\n",
       "      <td>boat-neck</td>\n",
       "      <td>Sleeveless</td>\n",
       "      <td>empire</td>\n",
       "      <td>silk</td>\n",
       "      <td>print</td>\n",
       "      <td>1</td>\n",
       "      <td>15.308235</td>\n",
       "    </tr>\n",
       "    <tr>\n",
       "      <th>549</th>\n",
       "      <td>919930954</td>\n",
       "      <td>Casual</td>\n",
       "      <td>Low</td>\n",
       "      <td>4.4000</td>\n",
       "      <td>free</td>\n",
       "      <td>Summer</td>\n",
       "      <td>v-neck</td>\n",
       "      <td>short</td>\n",
       "      <td>empire</td>\n",
       "      <td>cotton</td>\n",
       "      <td>solid</td>\n",
       "      <td>0</td>\n",
       "      <td>17.983202</td>\n",
       "    </tr>\n",
       "  </tbody>\n",
       "</table>\n",
       "<p>550 rows × 13 columns</p>\n",
       "</div>"
      ],
      "text/plain": [
       "       Dress_ID    Style    Price  Rating  Size  Season   NeckLine  \\\n",
       "0    1006032852     Sexy      Low  4.6000     M  Summer     o-neck   \n",
       "1    1212192089   Casual      Low  3.5286     L  Summer     o-neck   \n",
       "2    1190380701  vintage     High  3.5286     L  Autumn     o-neck   \n",
       "3     966005983    Brief  Average  4.6000     L  Spring     o-neck   \n",
       "4     876339541     cute      Low  4.5000     M  Summer     o-neck   \n",
       "..          ...      ...      ...     ...   ...     ...        ...   \n",
       "545   990559192    Brief  Average  4.7000     M  Winter     o-neck   \n",
       "546   713391965   Casual      Low  4.7000     M  Spring     o-neck   \n",
       "547   532874347   Casual  Average  4.7000     M  Summer     v-neck   \n",
       "548   655464934   Casual  Average  4.6000     L  Winter  boat-neck   \n",
       "549   919930954   Casual      Low  4.4000  free  Summer     v-neck   \n",
       "\n",
       "    SleeveLength waiseline       Material Pattern Type  Recommendation  \\\n",
       "0     Sleeveless    empire         cotton       animal               1   \n",
       "1          Petal   natural     microfiber       animal               0   \n",
       "2           full   natural       polyster        print               0   \n",
       "3           full   natural           silk        print               1   \n",
       "4      butterfly   natural  chiffonfabric          dot               0   \n",
       "..           ...       ...            ...          ...             ...   \n",
       "545         half   natural        acrylic      striped               0   \n",
       "546         full   natural       polyster        solid               1   \n",
       "547         full    empire         cotton        solid               1   \n",
       "548   Sleeveless    empire           silk        print               1   \n",
       "549        short    empire         cotton        solid               0   \n",
       "\n",
       "     Total_Sale  \n",
       "0     24.628272  \n",
       "1     23.135218  \n",
       "2      7.730647  \n",
       "3     22.081889  \n",
       "4     22.479040  \n",
       "..          ...  \n",
       "545   11.842336  \n",
       "546   16.954507  \n",
       "547   18.060039  \n",
       "548   15.308235  \n",
       "549   17.983202  \n",
       "\n",
       "[550 rows x 13 columns]"
      ]
     },
     "execution_count": 55,
     "metadata": {},
     "output_type": "execute_result"
    }
   ],
   "source": [
    "# Merging 'df_attr_drop' and 'df_total_sale' two dataframe on common column 'Dress_ID'\n",
    "\n",
    "df_combined = df_attr_drop.merge(df_total_sale, on='Dress_ID', how = 'inner')\n",
    "df_combined"
   ]
  },
  {
   "cell_type": "markdown",
   "metadata": {},
   "source": [
    "<font color='darkorange'>\n",
    "    \n",
    "### Working with the combined dataset \n",
    "    \n",
    "    \n",
    "</font>"
   ]
  },
  {
   "cell_type": "code",
   "execution_count": 56,
   "metadata": {},
   "outputs": [],
   "source": [
    "# separating categorical variables for different plotting\n",
    "\n",
    "df_cat = df_combined.select_dtypes(include='object').copy()\n",
    "df_cat['Total_Sale'] = df_combined.loc[df_cat.index, 'Total_Sale'].copy()"
   ]
  },
  {
   "cell_type": "code",
   "execution_count": 57,
   "metadata": {},
   "outputs": [
    {
     "data": {
      "text/html": [
       "<div>\n",
       "<style scoped>\n",
       "    .dataframe tbody tr th:only-of-type {\n",
       "        vertical-align: middle;\n",
       "    }\n",
       "\n",
       "    .dataframe tbody tr th {\n",
       "        vertical-align: top;\n",
       "    }\n",
       "\n",
       "    .dataframe thead th {\n",
       "        text-align: right;\n",
       "    }\n",
       "</style>\n",
       "<table border=\"1\" class=\"dataframe\">\n",
       "  <thead>\n",
       "    <tr style=\"text-align: right;\">\n",
       "      <th></th>\n",
       "      <th>Style</th>\n",
       "      <th>Price</th>\n",
       "      <th>Size</th>\n",
       "      <th>Season</th>\n",
       "      <th>NeckLine</th>\n",
       "      <th>SleeveLength</th>\n",
       "      <th>waiseline</th>\n",
       "      <th>Material</th>\n",
       "      <th>Pattern Type</th>\n",
       "      <th>Total_Sale</th>\n",
       "    </tr>\n",
       "  </thead>\n",
       "  <tbody>\n",
       "    <tr>\n",
       "      <th>0</th>\n",
       "      <td>Sexy</td>\n",
       "      <td>Low</td>\n",
       "      <td>M</td>\n",
       "      <td>Summer</td>\n",
       "      <td>o-neck</td>\n",
       "      <td>Sleeveless</td>\n",
       "      <td>empire</td>\n",
       "      <td>cotton</td>\n",
       "      <td>animal</td>\n",
       "      <td>24.628272</td>\n",
       "    </tr>\n",
       "    <tr>\n",
       "      <th>1</th>\n",
       "      <td>Casual</td>\n",
       "      <td>Low</td>\n",
       "      <td>L</td>\n",
       "      <td>Summer</td>\n",
       "      <td>o-neck</td>\n",
       "      <td>Petal</td>\n",
       "      <td>natural</td>\n",
       "      <td>microfiber</td>\n",
       "      <td>animal</td>\n",
       "      <td>23.135218</td>\n",
       "    </tr>\n",
       "    <tr>\n",
       "      <th>2</th>\n",
       "      <td>vintage</td>\n",
       "      <td>High</td>\n",
       "      <td>L</td>\n",
       "      <td>Autumn</td>\n",
       "      <td>o-neck</td>\n",
       "      <td>full</td>\n",
       "      <td>natural</td>\n",
       "      <td>polyster</td>\n",
       "      <td>print</td>\n",
       "      <td>7.730647</td>\n",
       "    </tr>\n",
       "    <tr>\n",
       "      <th>3</th>\n",
       "      <td>Brief</td>\n",
       "      <td>Average</td>\n",
       "      <td>L</td>\n",
       "      <td>Spring</td>\n",
       "      <td>o-neck</td>\n",
       "      <td>full</td>\n",
       "      <td>natural</td>\n",
       "      <td>silk</td>\n",
       "      <td>print</td>\n",
       "      <td>22.081889</td>\n",
       "    </tr>\n",
       "    <tr>\n",
       "      <th>4</th>\n",
       "      <td>cute</td>\n",
       "      <td>Low</td>\n",
       "      <td>M</td>\n",
       "      <td>Summer</td>\n",
       "      <td>o-neck</td>\n",
       "      <td>butterfly</td>\n",
       "      <td>natural</td>\n",
       "      <td>chiffonfabric</td>\n",
       "      <td>dot</td>\n",
       "      <td>22.479040</td>\n",
       "    </tr>\n",
       "  </tbody>\n",
       "</table>\n",
       "</div>"
      ],
      "text/plain": [
       "     Style    Price Size  Season NeckLine SleeveLength waiseline  \\\n",
       "0     Sexy      Low    M  Summer   o-neck   Sleeveless    empire   \n",
       "1   Casual      Low    L  Summer   o-neck        Petal   natural   \n",
       "2  vintage     High    L  Autumn   o-neck         full   natural   \n",
       "3    Brief  Average    L  Spring   o-neck         full   natural   \n",
       "4     cute      Low    M  Summer   o-neck    butterfly   natural   \n",
       "\n",
       "        Material Pattern Type  Total_Sale  \n",
       "0         cotton       animal   24.628272  \n",
       "1     microfiber       animal   23.135218  \n",
       "2       polyster        print    7.730647  \n",
       "3           silk        print   22.081889  \n",
       "4  chiffonfabric          dot   22.479040  "
      ]
     },
     "execution_count": 57,
     "metadata": {},
     "output_type": "execute_result"
    }
   ],
   "source": [
    "df_cat.head()"
   ]
  },
  {
   "cell_type": "code",
   "execution_count": 58,
   "metadata": {},
   "outputs": [
    {
     "data": {
      "text/plain": [
       "<matplotlib.axes._subplots.AxesSubplot at 0x125879c0940>"
      ]
     },
     "execution_count": 58,
     "metadata": {},
     "output_type": "execute_result"
    },
    {
     "data": {
      "image/png": "[encoded data removed]",
      "text/plain": [
       "<Figure size 1080x720 with 9 Axes>"
      ]
     },
     "metadata": {},
     "output_type": "display_data"
    }
   ],
   "source": [
    "# Verifying COunt Plot, Box Plot and Violin plot for 3-Categorical columns - Price, Size and Season\n",
    "\n",
    "fig = plt.figure(figsize = (15,10))\n",
    "\n",
    "ax1 = fig.add_subplot(3,3,1)\n",
    "sns.countplot(data = df_cat, x = 'Price', ax=ax1)\n",
    "\n",
    "ax2 = fig.add_subplot(3,3,2)\n",
    "sns.countplot(data = df_cat, x = 'Size', ax=ax2)\n",
    "\n",
    "ax3 = fig.add_subplot(3,3,3)\n",
    "sns.countplot(data = df_cat, x = 'Season', ax=ax3)\n",
    "\n",
    "ax4 = fig.add_subplot(3,3,4)\n",
    "sns.boxplot(data = df_cat, x = 'Price', y = 'Total_Sale' , ax=ax4)\n",
    "\n",
    "ax5 = fig.add_subplot(3,3,5)\n",
    "sns.boxplot(data = df_cat, x = 'Size', y = 'Total_Sale', ax=ax5)\n",
    "\n",
    "ax6 = fig.add_subplot(3,3,6)\n",
    "sns.boxplot(data = df_cat, x = 'Season', y = 'Total_Sale', ax=ax6)\n",
    "\n",
    "ax7 = fig.add_subplot(3,3,7)\n",
    "sns.violinplot(data = df_cat, x = 'Price', y = 'Total_Sale' , ax=ax7)\n",
    "\n",
    "ax8 = fig.add_subplot(3,3,8)\n",
    "sns.violinplot(data = df_cat, x = 'Size', y = 'Total_Sale', ax=ax8)\n",
    "\n",
    "ax9 = fig.add_subplot(3,3,9)\n",
    "sns.violinplot(data = df_cat, x = 'Season', y = 'Total_Sale', ax=ax9)\n",
    "\n"
   ]
  },
  {
   "cell_type": "markdown",
   "metadata": {},
   "source": [
    "<font color='crimson'>\n",
    "    \n",
    "#### Encoding categorical variables, and train-test split of dataset\n",
    "    \n",
    "    \n",
    "</font>"
   ]
  },
  {
   "cell_type": "code",
   "execution_count": 59,
   "metadata": {},
   "outputs": [],
   "source": [
    "# Splitting dataset on dependent / target variable (Y) and independent variable (X)\n",
    "\n",
    "df_X = df_combined.drop('Recommendation', axis=1)\n",
    "df_Y = df_combined['Recommendation']"
   ]
  },
  {
   "cell_type": "code",
   "execution_count": 60,
   "metadata": {},
   "outputs": [],
   "source": [
    "# importing one hot encoder\n",
    "from sklearn.preprocessing import LabelEncoder, OneHotEncoder\n",
    "\n",
    "# creating one hot encoder object \n",
    "\n",
    "onehotencoder = OneHotEncoder(handle_unknown='ignore') # To ignore the categories not seen during training, we can use the given parameter\n",
    "X = onehotencoder.fit_transform(df_X).toarray()\n",
    "\n",
    "#labelencoder = LabelEncoder()\n",
    "#X = df_X.apply(labelencoder.fit_transform)\n"
   ]
  },
  {
   "cell_type": "code",
   "execution_count": 61,
   "metadata": {},
   "outputs": [
    {
     "name": "stdout",
     "output_type": "stream",
     "text": [
      "(440, 1064)\n",
      "(110, 1064)\n",
      "(440,)\n",
      "(110,)\n"
     ]
    }
   ],
   "source": [
    "# Now splitting the dataset into train and test\n",
    "from sklearn.model_selection import train_test_split\n",
    "\n",
    "X_train, X_test, y_train, y_test = train_test_split(X, df_Y, test_size=0.2, random_state=5)\n",
    "\n",
    "print(X_train.shape)\n",
    "print(X_test.shape)\n",
    "print(y_train.shape)\n",
    "print(y_test.shape)"
   ]
  },
  {
   "cell_type": "code",
   "execution_count": 62,
   "metadata": {},
   "outputs": [
    {
     "data": {
      "text/plain": [
       "array([[0., 0., 0., ..., 1., 0., 0.],\n",
       "       [0., 0., 0., ..., 0., 0., 0.],\n",
       "       [0., 0., 0., ..., 0., 0., 0.],\n",
       "       ...,\n",
       "       [0., 0., 0., ..., 0., 0., 0.],\n",
       "       [0., 0., 0., ..., 0., 0., 0.],\n",
       "       [0., 0., 0., ..., 0., 0., 0.]])"
      ]
     },
     "execution_count": 62,
     "metadata": {},
     "output_type": "execute_result"
    }
   ],
   "source": [
    "X"
   ]
  },
  {
   "cell_type": "markdown",
   "metadata": {},
   "source": [
    "<font color='crimson'>\n",
    "    \n",
    "### Model Test-1: Logistic Regression\n",
    "    \n",
    "    \n",
    "</font>"
   ]
  },
  {
   "cell_type": "code",
   "execution_count": 63,
   "metadata": {},
   "outputs": [],
   "source": [
    "# Applying logistic regression\n",
    "\n",
    "from sklearn.linear_model import LogisticRegression\n",
    "\n",
    "lr = LogisticRegression()\n",
    "lr.fit(X_train, y_train)\n",
    "y_pred_lr = lr.predict(X_test)"
   ]
  },
  {
   "cell_type": "code",
   "execution_count": 64,
   "metadata": {},
   "outputs": [
    {
     "name": "stdout",
     "output_type": "stream",
     "text": [
      "**************************************************\n",
      "confusion matrix: \n"
     ]
    },
    {
     "data": {
      "text/plain": [
       "array([[50,  5],\n",
       "       [36, 19]], dtype=int64)"
      ]
     },
     "execution_count": 64,
     "metadata": {},
     "output_type": "execute_result"
    }
   ],
   "source": [
    "# Confusion matrix\n",
    "\n",
    "from sklearn.metrics import confusion_matrix\n",
    "\n",
    "y_test\n",
    "y_pred_lr\n",
    "\n",
    "results = confusion_matrix(y_test, y_pred_lr)\n",
    "\n",
    "print('*'*50)\n",
    "print('confusion matrix: ')\n",
    "results\n"
   ]
  },
  {
   "cell_type": "code",
   "execution_count": 65,
   "metadata": {},
   "outputs": [],
   "source": [
    "def F1Score_cal(resultsMatrix):\n",
    "    TP = resultsMatrix[0][0] # true positive\n",
    "    FP = resultsMatrix[0][1] # false positive\n",
    "    FN = resultsMatrix[1][0] # false negative\n",
    "    TN = resultsMatrix[1][1] # true negative\n",
    "    \n",
    "    recall = TP / (TP+FN)\n",
    "    precision = TP / (TP+FP)\n",
    "    accuracy = (TP+TN) / (TP+FP+TN+FN)\n",
    "    F1_score = 2 * ((precision * recall) /(precision + recall))\n",
    "    \n",
    "    return accuracy, F1_score"
   ]
  },
  {
   "cell_type": "code",
   "execution_count": 66,
   "metadata": {},
   "outputs": [
    {
     "name": "stdout",
     "output_type": "stream",
     "text": [
      "Calculated accuracy and F1_score is: \n"
     ]
    },
    {
     "data": {
      "text/plain": [
       "(0.6272727272727273, 0.7092198581560284)"
      ]
     },
     "execution_count": 66,
     "metadata": {},
     "output_type": "execute_result"
    }
   ],
   "source": [
    "print('Calculated accuracy and F1_score is: ')\n",
    "lr_res = F1Score_cal(results)\n",
    "lr_res"
   ]
  },
  {
   "cell_type": "code",
   "execution_count": 67,
   "metadata": {},
   "outputs": [],
   "source": [
    "auc_lr = roc_auc_score(y_test, y_pred_lr).round(2) # Area Under Curve (AUC)"
   ]
  },
  {
   "cell_type": "code",
   "execution_count": 68,
   "metadata": {},
   "outputs": [],
   "source": [
    "# writing a function for ROC curve \n",
    "\n",
    "def ROC_Curve_model(test_Y, pred_Y):\n",
    "    auc = roc_auc_score(test_Y, pred_Y) # Area Under Curve (AUC)\n",
    "    fpr, tpr, thresholds = roc_curve(test_Y, pred_Y) # calculation of fpr and tpr\n",
    "    \n",
    "    plt.plot(fpr, tpr, color='red', label='ROC')\n",
    "    plt.plot([0, 1], [0, 1], color='darkblue', linestyle='--',label='ROC curve (area = %0.2f)' % auc)\n",
    "    plt.xlabel('False Positive Rate')\n",
    "    plt.ylabel('True Positive Rate')\n",
    "    plt.title('Receiver Operating Characteristic (ROC) Curve')\n",
    "    plt.legend()\n",
    "    plt.show()\n",
    "    "
   ]
  },
  {
   "cell_type": "code",
   "execution_count": 67,
   "metadata": {},
   "outputs": [
    {
     "data": {
      "image/png": "[encoded data removed]",
      "text/plain": [
       "<Figure size 432x288 with 1 Axes>"
      ]
     },
     "metadata": {},
     "output_type": "display_data"
    }
   ],
   "source": [
    "# ROC curve for Linear Regression model\n",
    "\n",
    "ROC_Curve_model(y_test, y_pred_lr)"
   ]
  },
  {
   "cell_type": "code",
   "execution_count": null,
   "metadata": {},
   "outputs": [],
   "source": []
  },
  {
   "cell_type": "markdown",
   "metadata": {},
   "source": [
    "<font color='crimson'>\n",
    "    \n",
    "### Model Test-2: K-Nearest Neighbours\n",
    "    \n",
    "    \n",
    "</font>"
   ]
  },
  {
   "cell_type": "code",
   "execution_count": 68,
   "metadata": {},
   "outputs": [],
   "source": [
    "from sklearn.neighbors import KNeighborsClassifier\n",
    "\n",
    "knn = KNeighborsClassifier(n_neighbors = 7)\n",
    "knn.fit(X_train, y_train)\n",
    "y_pred_knn = knn.predict(X_test)"
   ]
  },
  {
   "cell_type": "code",
   "execution_count": 69,
   "metadata": {},
   "outputs": [
    {
     "name": "stdout",
     "output_type": "stream",
     "text": [
      "**************************************************\n",
      "confusion matrix: \n"
     ]
    },
    {
     "data": {
      "text/plain": [
       "array([[40, 15],\n",
       "       [34, 21]], dtype=int64)"
      ]
     },
     "execution_count": 69,
     "metadata": {},
     "output_type": "execute_result"
    }
   ],
   "source": [
    "# Confusion matrix\n",
    "\n",
    "from sklearn.metrics import confusion_matrix\n",
    "\n",
    "y_test\n",
    "y_pred_knn\n",
    "\n",
    "results2 = confusion_matrix(y_test, y_pred_knn)\n",
    "\n",
    "print('*'*50)\n",
    "print('confusion matrix: ')\n",
    "results2\n"
   ]
  },
  {
   "cell_type": "code",
   "execution_count": 70,
   "metadata": {},
   "outputs": [
    {
     "name": "stdout",
     "output_type": "stream",
     "text": [
      "Calculated accuracy and F1_score is: \n"
     ]
    },
    {
     "data": {
      "text/plain": [
       "(0.5545454545454546, 0.6201550387596899)"
      ]
     },
     "execution_count": 70,
     "metadata": {},
     "output_type": "execute_result"
    }
   ],
   "source": [
    "print('Calculated accuracy and F1_score is: ')\n",
    "knn_res = F1Score_cal(results2)\n",
    "knn_res"
   ]
  },
  {
   "cell_type": "code",
   "execution_count": 71,
   "metadata": {},
   "outputs": [],
   "source": [
    "auc_knn = roc_auc_score(y_test, y_pred_knn).round(2) # Area Under Curve (AUC)"
   ]
  },
  {
   "cell_type": "code",
   "execution_count": 72,
   "metadata": {},
   "outputs": [
    {
     "data": {
      "image/png": "[encoded data removed]",
      "text/plain": [
       "<Figure size 432x288 with 1 Axes>"
      ]
     },
     "metadata": {},
     "output_type": "display_data"
    }
   ],
   "source": [
    "# ROC curve for KNN model\n",
    "\n",
    "ROC_Curve_model(y_test, y_pred_knn)"
   ]
  },
  {
   "cell_type": "markdown",
   "metadata": {},
   "source": [
    "<font color='crimson'>\n",
    "    \n",
    "### Model Test-3: Decision Tree\n",
    "    \n",
    "    \n",
    "</font>"
   ]
  },
  {
   "cell_type": "code",
   "execution_count": 73,
   "metadata": {},
   "outputs": [],
   "source": [
    "from sklearn.tree import DecisionTreeClassifier\n",
    "\n",
    "dtree = DecisionTreeClassifier(max_depth=10, random_state=110, max_features=None, min_samples_leaf=15)\n",
    "dtree.fit(X_train, y_train)\n",
    "y_pred_dt = dtree.predict(X_test)"
   ]
  },
  {
   "cell_type": "code",
   "execution_count": 74,
   "metadata": {},
   "outputs": [
    {
     "name": "stdout",
     "output_type": "stream",
     "text": [
      "**************************************************\n",
      "confusion matrix: \n"
     ]
    },
    {
     "data": {
      "text/plain": [
       "array([[39, 16],\n",
       "       [31, 24]], dtype=int64)"
      ]
     },
     "execution_count": 74,
     "metadata": {},
     "output_type": "execute_result"
    }
   ],
   "source": [
    "# Confusion matrix\n",
    "\n",
    "from sklearn.metrics import confusion_matrix\n",
    "\n",
    "y_test\n",
    "y_pred_dt\n",
    "\n",
    "results3 = confusion_matrix(y_test, y_pred_dt)\n",
    "\n",
    "print('*'*50)\n",
    "print('confusion matrix: ')\n",
    "results3"
   ]
  },
  {
   "cell_type": "code",
   "execution_count": 75,
   "metadata": {},
   "outputs": [
    {
     "name": "stdout",
     "output_type": "stream",
     "text": [
      "Calculated accuracy and F1_score is: \n"
     ]
    },
    {
     "data": {
      "text/plain": [
       "(0.5727272727272728, 0.6239999999999999)"
      ]
     },
     "execution_count": 75,
     "metadata": {},
     "output_type": "execute_result"
    }
   ],
   "source": [
    "print('Calculated accuracy and F1_score is: ')\n",
    "dt_res = F1Score_cal(results3)\n",
    "dt_res"
   ]
  },
  {
   "cell_type": "code",
   "execution_count": 76,
   "metadata": {},
   "outputs": [],
   "source": [
    "auc_dt = roc_auc_score(y_test, y_pred_dt).round(2) # Area Under Curve (AUC)"
   ]
  },
  {
   "cell_type": "code",
   "execution_count": 77,
   "metadata": {},
   "outputs": [
    {
     "data": {
      "image/png": "[encoded data removed]",
      "text/plain": [
       "<Figure size 432x288 with 1 Axes>"
      ]
     },
     "metadata": {},
     "output_type": "display_data"
    }
   ],
   "source": [
    "# ROC curve for Decision Tree model\n",
    "\n",
    "ROC_Curve_model(y_test, y_pred_dt)"
   ]
  },
  {
   "cell_type": "markdown",
   "metadata": {},
   "source": [
    "<font color='crimson'>\n",
    "    \n",
    "### Model Test-4: Support Vector Machine (SVM)\n",
    "    \n",
    "    \n",
    "</font>"
   ]
  },
  {
   "cell_type": "code",
   "execution_count": 78,
   "metadata": {},
   "outputs": [],
   "source": [
    "from sklearn.svm import SVC\n",
    "\n",
    "svm = SVC(kernel='linear', C=0.025, random_state=110)\n",
    "svm.fit(X_train, y_train)\n",
    "y_pred_svm = svm.predict(X_test)"
   ]
  },
  {
   "cell_type": "code",
   "execution_count": 79,
   "metadata": {},
   "outputs": [
    {
     "name": "stdout",
     "output_type": "stream",
     "text": [
      "**************************************************\n",
      "confusion matrix: \n"
     ]
    },
    {
     "data": {
      "text/plain": [
       "array([[51,  4],\n",
       "       [45, 10]], dtype=int64)"
      ]
     },
     "execution_count": 79,
     "metadata": {},
     "output_type": "execute_result"
    }
   ],
   "source": [
    "# Confusion matrix\n",
    "\n",
    "from sklearn.metrics import confusion_matrix\n",
    "\n",
    "y_test\n",
    "y_pred_svm\n",
    "\n",
    "results4 = confusion_matrix(y_test, y_pred_svm)\n",
    "\n",
    "print('*'*50)\n",
    "print('confusion matrix: ')\n",
    "results4"
   ]
  },
  {
   "cell_type": "code",
   "execution_count": 80,
   "metadata": {},
   "outputs": [
    {
     "name": "stdout",
     "output_type": "stream",
     "text": [
      "Calculated accuracy and F1_score is: \n"
     ]
    },
    {
     "data": {
      "text/plain": [
       "(0.5545454545454546, 0.6754966887417219)"
      ]
     },
     "execution_count": 80,
     "metadata": {},
     "output_type": "execute_result"
    }
   ],
   "source": [
    "print('Calculated accuracy and F1_score is: ')\n",
    "svm_res = F1Score_cal(results4)\n",
    "svm_res"
   ]
  },
  {
   "cell_type": "code",
   "execution_count": 81,
   "metadata": {},
   "outputs": [],
   "source": [
    "auc_svm = roc_auc_score(y_test, y_pred_svm).round(2) # Area Under Curve (AUC)"
   ]
  },
  {
   "cell_type": "code",
   "execution_count": 82,
   "metadata": {},
   "outputs": [
    {
     "data": {
      "image/png": "[encoded data removed]",
      "text/plain": [
       "<Figure size 432x288 with 1 Axes>"
      ]
     },
     "metadata": {},
     "output_type": "display_data"
    }
   ],
   "source": [
    "# ROC curve for SVM model\n",
    "\n",
    "ROC_Curve_model(y_test, y_pred_svm)"
   ]
  },
  {
   "cell_type": "markdown",
   "metadata": {},
   "source": [
    "<font color='crimson'>\n",
    "    \n",
    "### Comparison Matrix for Different ML Models - \n",
    "    \n",
    "    \n",
    "</font>"
   ]
  },
  {
   "cell_type": "code",
   "execution_count": 83,
   "metadata": {},
   "outputs": [
    {
     "name": "stdout",
     "output_type": "stream",
     "text": [
      "**************************************************\n",
      "Comparison Matrix: \n"
     ]
    },
    {
     "data": {
      "text/html": [
       "<div>\n",
       "<style scoped>\n",
       "    .dataframe tbody tr th:only-of-type {\n",
       "        vertical-align: middle;\n",
       "    }\n",
       "\n",
       "    .dataframe tbody tr th {\n",
       "        vertical-align: top;\n",
       "    }\n",
       "\n",
       "    .dataframe thead th {\n",
       "        text-align: right;\n",
       "    }\n",
       "</style>\n",
       "<table border=\"1\" class=\"dataframe\">\n",
       "  <thead>\n",
       "    <tr style=\"text-align: right;\">\n",
       "      <th></th>\n",
       "      <th>LogisticRegression</th>\n",
       "      <th>KNN</th>\n",
       "      <th>Decision Tree</th>\n",
       "      <th>SVM</th>\n",
       "    </tr>\n",
       "  </thead>\n",
       "  <tbody>\n",
       "    <tr>\n",
       "      <th>Accuracy %</th>\n",
       "      <td>62.73000</td>\n",
       "      <td>55.450000</td>\n",
       "      <td>57.270</td>\n",
       "      <td>55.450000</td>\n",
       "    </tr>\n",
       "    <tr>\n",
       "      <th>F1-Score</th>\n",
       "      <td>0.70922</td>\n",
       "      <td>0.620155</td>\n",
       "      <td>0.624</td>\n",
       "      <td>0.675497</td>\n",
       "    </tr>\n",
       "    <tr>\n",
       "      <th>AUC_Score</th>\n",
       "      <td>0.63000</td>\n",
       "      <td>0.550000</td>\n",
       "      <td>0.570</td>\n",
       "      <td>0.550000</td>\n",
       "    </tr>\n",
       "  </tbody>\n",
       "</table>\n",
       "</div>"
      ],
      "text/plain": [
       "            LogisticRegression        KNN  Decision Tree        SVM\n",
       "Accuracy %            62.73000  55.450000         57.270  55.450000\n",
       "F1-Score               0.70922   0.620155          0.624   0.675497\n",
       "AUC_Score              0.63000   0.550000          0.570   0.550000"
      ]
     },
     "execution_count": 83,
     "metadata": {},
     "output_type": "execute_result"
    }
   ],
   "source": [
    "comp_martrix = {'LogisticRegression': [(lr_res[0]*100).round(2), lr_res[1], auc_lr], \n",
    "                'KNN': [(knn_res[0]*100).round(2), knn_res[1], auc_knn], \n",
    "                'Decision Tree': [(dt_res[0]*100).round(2), dt_res[1], auc_dt], \n",
    "                'SVM': [(svm_res[0]*100).round(2), svm_res[1], auc_svm]}\n",
    "\n",
    "df_comp_matrix = pd.DataFrame(comp_martrix, columns = ['LogisticRegression', 'KNN', 'Decision Tree', 'SVM'], \n",
    "                              index = ['Accuracy %', 'F1-Score', 'AUC_Score' ])\n",
    "\n",
    "print('*'*50)\n",
    "print('Comparison Matrix: ')\n",
    "df_comp_matrix"
   ]
  },
  {
   "cell_type": "code",
   "execution_count": null,
   "metadata": {},
   "outputs": [],
   "source": []
  },
  {
   "cell_type": "code",
   "execution_count": null,
   "metadata": {},
   "outputs": [],
   "source": []
  },
  {
   "cell_type": "markdown",
   "metadata": {},
   "source": [
    "### Hyper parameter Tuning"
   ]
  },
  {
   "cell_type": "code",
   "execution_count": 84,
   "metadata": {},
   "outputs": [
    {
     "name": "stdout",
     "output_type": "stream",
     "text": [
      "   C_parameter  Accuracy\n",
      "0        0.001       0.5\n",
      "1        0.010  0.509091\n",
      "2        0.100  0.572727\n",
      "3        1.000  0.627273\n",
      "4       10.000  0.563636\n",
      "5      100.000  0.563636\n"
     ]
    },
    {
     "name": "stderr",
     "output_type": "stream",
     "text": [
      "C:\\Users\\bivas\\Anaconda3\\lib\\site-packages\\sklearn\\linear_model\\_logistic.py:940: ConvergenceWarning: lbfgs failed to converge (status=1):\n",
      "STOP: TOTAL NO. of ITERATIONS REACHED LIMIT.\n",
      "\n",
      "Increase the number of iterations (max_iter) or scale the data as shown in:\n",
      "    https://scikit-learn.org/stable/modules/preprocessing.html\n",
      "Please also refer to the documentation for alternative solver options:\n",
      "    https://scikit-learn.org/stable/modules/linear_model.html#logistic-regression\n",
      "  extra_warning_msg=_LOGISTIC_SOLVER_CONVERGENCE_MSG)\n",
      "C:\\Users\\bivas\\Anaconda3\\lib\\site-packages\\sklearn\\linear_model\\_logistic.py:940: ConvergenceWarning: lbfgs failed to converge (status=1):\n",
      "STOP: TOTAL NO. of ITERATIONS REACHED LIMIT.\n",
      "\n",
      "Increase the number of iterations (max_iter) or scale the data as shown in:\n",
      "    https://scikit-learn.org/stable/modules/preprocessing.html\n",
      "Please also refer to the documentation for alternative solver options:\n",
      "    https://scikit-learn.org/stable/modules/linear_model.html#logistic-regression\n",
      "  extra_warning_msg=_LOGISTIC_SOLVER_CONVERGENCE_MSG)\n"
     ]
    }
   ],
   "source": [
    "# Logistic regression\n",
    "\n",
    "C_param_range = [0.001,0.01,0.1,1,10,100]\n",
    "\n",
    "comp_table = pd.DataFrame(columns = ['C_parameter','Accuracy'])\n",
    "comp_table['C_parameter'] = C_param_range\n",
    "\n",
    "j = 0\n",
    "for i in C_param_range:\n",
    "    \n",
    "    # Apply logistic regression model to training data\n",
    "    lr = LogisticRegression(penalty = 'l2', C = i,random_state = 0)\n",
    "    lr.fit(X_train,y_train)\n",
    "    \n",
    "    # Predict using model\n",
    "    y_pred = lr.predict(X_test)\n",
    "    \n",
    "    # Saving accuracy score in table\n",
    "    comp_table.iloc[j,1] = accuracy_score(y_test,y_pred)\n",
    "    j += 1\n",
    "    \n",
    "print(comp_table)"
   ]
  },
  {
   "cell_type": "code",
   "execution_count": 85,
   "metadata": {},
   "outputs": [
    {
     "name": "stdout",
     "output_type": "stream",
     "text": [
      "    C_parameter  Accuracy\n",
      "0             1  0.563636\n",
      "1             2  0.581818\n",
      "2             3  0.554545\n",
      "3             4  0.581818\n",
      "4             5       0.6\n",
      "5             7  0.554545\n",
      "6             9  0.590909\n",
      "7            11       0.6\n",
      "8            13  0.609091\n",
      "9            16  0.609091\n",
      "10           20  0.581818\n",
      "11           23  0.609091\n",
      "12           24  0.609091\n",
      "13           40  0.563636\n",
      "14           50  0.554545\n",
      "15           60  0.563636\n",
      "16          100  0.536364\n"
     ]
    }
   ],
   "source": [
    "# KNN\n",
    "\n",
    "knn_neighbors = [1, 2,3,4,5,7,9,11,13,16,20,23,24,40,50,60,100]\n",
    "\n",
    "knn_table = pd.DataFrame(columns = ['C_parameter','Accuracy'])\n",
    "knn_table['C_parameter'] = knn_neighbors\n",
    "\n",
    "j = 0\n",
    "for i in knn_neighbors:\n",
    "    \n",
    "    # Apply logistic regression model to training data\n",
    "    knn = KNeighborsClassifier(n_neighbors = i, leaf_size=30)\n",
    "    knn.fit(X_train,y_train)\n",
    "    \n",
    "    # Predict using model\n",
    "    y_pred = knn.predict(X_test)\n",
    "    \n",
    "    # Saving accuracy score in table\n",
    "    knn_table.iloc[j,1] = accuracy_score(y_test,y_pred)\n",
    "    j += 1\n",
    "    \n",
    "print(knn_table)"
   ]
  },
  {
   "cell_type": "markdown",
   "metadata": {},
   "source": [
    "### Finally we will go with the Logistic Rgression model"
   ]
  },
  {
   "cell_type": "code",
   "execution_count": 86,
   "metadata": {},
   "outputs": [],
   "source": [
    "# saving the file to the local file system\n",
    "\n",
    "import pickle\n",
    "filename = 'dressRecon_model.pickle'\n",
    "pickle.dump(lr, open(filename, 'wb'))"
   ]
  },
  {
   "cell_type": "code",
   "execution_count": 99,
   "metadata": {},
   "outputs": [],
   "source": [
    "# saving the file to the local file system\n",
    "\n",
    "import pickle\n",
    "filename = 'onehotencoder_model.pickle'\n",
    "pickle.dump(onehotencoder, open(filename, 'wb'))"
   ]
  },
  {
   "cell_type": "code",
   "execution_count": 87,
   "metadata": {},
   "outputs": [
    {
     "data": {
      "text/plain": [
       "array([1, 1, 0, 1, 1, 0, 0, 1, 0, 0, 0, 0, 0, 0, 1, 1, 0, 1, 1, 0, 0, 1,\n",
       "       1, 1, 1, 0, 0, 1, 1, 1, 0, 1, 0, 0, 0, 0, 1, 0, 0, 1, 0, 0, 0, 0,\n",
       "       1, 1, 1, 0, 0, 1, 0, 0, 1, 1, 1, 1, 0, 0, 1, 1, 0, 0, 0, 0, 1, 1,\n",
       "       1, 0, 1, 0, 1, 0, 0, 0, 0, 0, 1, 1, 0, 0, 0, 0, 0, 0, 1, 0, 0, 0,\n",
       "       1, 0, 1, 0, 0, 0, 0, 0, 0, 1, 1, 1, 0, 1, 0, 0, 0, 0, 0, 0, 0, 0],\n",
       "      dtype=int64)"
      ]
     },
     "execution_count": 87,
     "metadata": {},
     "output_type": "execute_result"
    }
   ],
   "source": [
    "# prediction using the saved file\n",
    "\n",
    "# ['Sexy', 'Low', 4.6, 'M', 'Summer', 'o-neck', 'Sleeveless', 'empire', 'cotton', 'animal', 25]\n",
    "loaded_model = pickle.load(open(filename, 'rb'))\n",
    "results = loaded_model.predict(X_test)\n",
    "results"
   ]
  },
  {
   "cell_type": "code",
   "execution_count": 101,
   "metadata": {},
   "outputs": [
    {
     "name": "stdout",
     "output_type": "stream",
     "text": [
      "[1]\n"
     ]
    }
   ],
   "source": [
    "# Testing the model output for single data set\n",
    "\n",
    "input = [[1006002, 'Sexy', 'Low', 4.6000, 'L', 'Autumn', 'o-neck', 'Sleeveless', 'empire', 'cotton', 'animal', 24.6]]\n",
    "#input = [[112, 'vintage', 'High', 6, 'L', 'Autumn', 'o-neck', 'full', 'natural', 'polyster', 'print', 30.1]]\n",
    "\n",
    "test = onehotencoder.transform(input) # transform is required as we have onehot encoded model\n",
    "output = loaded_model.predict(test)\n",
    "print(output)"
   ]
  },
  {
   "cell_type": "code",
   "execution_count": 92,
   "metadata": {},
   "outputs": [
    {
     "name": "stdout",
     "output_type": "stream",
     "text": [
      "absl-py==0.9.0\n",
      "aiofiles==0.5.0\n",
      "aiohttp==3.6.2\n",
      "alabaster==0.7.12\n",
      "alembic==1.4.2\n",
      "anaconda-client==1.7.2\n",
      "anaconda-navigator==1.9.12\n",
      "anaconda-project==0.8.3\n",
      "APScheduler==3.6.3\n",
      "argh==0.26.2\n",
      "asn1crypto==1.3.0\n",
      "astor==0.8.1\n",
      "astroid==2.4.1\n",
      "astropy==4.0.1.post1\n",
      "async-generator==1.10\n",
      "async-timeout==3.0.1\n",
      "atomicwrites==1.4.0\n",
      "attrs==19.3.0\n",
      "autopep8==1.4.4\n",
      "Babel==2.8.0\n",
      "backcall==0.1.0\n",
      "backports.functools-lru-cache==1.6.1\n",
      "backports.shutil-get-terminal-size==1.0.0\n",
      "backports.tempfile==1.0\n",
      "backports.weakref==1.0.post1\n",
      "bcrypt==3.1.7\n",
      "beautifulsoup4==4.9.1\n",
      "bitarray==1.2.1\n",
      "bkcharts==0.2\n",
      "bleach==3.1.4\n",
      "blis==0.4.1\n",
      "bokeh==2.0.2\n",
      "boto==2.49.0\n",
      "boto3==1.12.39\n",
      "botocore==1.15.39\n",
      "Bottleneck==1.3.2\n",
      "bs4==0.0.1\n",
      "cachetools==4.1.0\n",
      "catalogue==1.0.0\n",
      "certifi==2020.4.5.1\n",
      "cffi==1.14.0\n",
      "chardet==3.0.4\n",
      "click==7.1.2\n",
      "cloudpickle==1.4.1\n",
      "clyent==1.2.2\n",
      "colorama==0.4.3\n",
      "colorclass==2.2.0\n",
      "coloredlogs==10.0\n",
      "colorhash==1.0.2\n",
      "comtypes==1.1.7\n",
      "conda==4.8.3\n",
      "conda-build==3.18.8\n",
      "conda-package-handling==1.7.0\n",
      "conda-verify==3.4.2\n",
      "contextlib2==0.6.0.post1\n",
      "cryptography==2.9.2\n",
      "cycler==0.10.0\n",
      "cymem==2.0.3\n",
      "Cython==0.29.17\n",
      "cytoolz==0.10.1\n",
      "dask==2.17.2\n",
      "decorator==4.4.2\n",
      "defusedxml==0.6.0\n",
      "diff-match-patch==20181111Note: you may need to restart the kernel to use updated packages.\n",
      "distributed==2.17.0\n",
      "dnspython==1.16.0\n",
      "docopt==0.6.2\n",
      "docutils==0.16\n",
      "\n",
      "en-core-web-md==2.2.5\n",
      "en-core-web-sm==2.2.5\n",
      "entrypoints==0.3\n",
      "et-xmlfile==1.0.1\n",
      "fastcache==1.1.0\n",
      "fbmessenger==6.0.0\n",
      "filelock==3.0.12\n",
      "flake8==3.8.2\n",
      "Flask==1.1.2\n",
      "fsspec==0.7.4\n",
      "future==0.18.2\n",
      "gast==0.2.2\n",
      "gevent==1.4.0\n",
      "gitdb==4.0.4\n",
      "GitPython==3.1.1\n",
      "glob2==0.7\n",
      "google-auth==1.13.1\n",
      "google-auth-oauthlib==0.4.1\n",
      "google-pasta==0.2.0\n",
      "greenlet==0.4.15\n",
      "grpcio==1.28.1\n",
      "h11==0.8.1\n",
      "h2==3.2.0\n",
      "h5py==2.10.0\n",
      "HeapDict==1.0.1\n",
      "hpack==3.0.0\n",
      "hstspreload==2020.4.14\n",
      "html5lib==1.0.1\n",
      "httplib2==0.17.2\n",
      "httptools==0.1.1\n",
      "httpx==0.9.3\n",
      "humanfriendly==8.1\n",
      "hyperframe==5.2.0\n",
      "hypothesis==5.11.0\n",
      "idna==2.9\n",
      "imageio==2.8.0\n",
      "imagesize==1.2.0\n",
      "importlib-metadata==1.6.0\n",
      "intervaltree==3.0.2\n",
      "ipykernel==5.1.4\n",
      "ipython==7.13.0\n",
      "ipython-genutils==0.2.0\n",
      "ipywidgets==7.5.1\n",
      "isort==4.3.21\n",
      "itsdangerous==1.1.0\n",
      "jdcal==1.4.1\n",
      "jedi==0.17.0\n",
      "Jinja2==2.11.2\n",
      "jmespath==0.9.5\n",
      "joblib==0.15.1\n",
      "json5==0.9.4\n",
      "jsonpickle==1.3\n",
      "jsonschema==3.2.0\n",
      "jupyter==1.0.0\n",
      "jupyter-client==6.1.3\n",
      "jupyter-console==6.1.0\n",
      "jupyter-core==4.6.3\n",
      "jupyterlab==1.2.6\n",
      "jupyterlab-server==1.1.4\n",
      "kafka-python==1.4.7\n",
      "Keras-Applications==1.0.8\n",
      "Keras-Preprocessing==1.1.0\n",
      "keyring==21.1.1\n",
      "kiwisolver==1.2.0\n",
      "lazy-object-proxy==1.4.3\n",
      "libarchive-c==2.9\n",
      "llvmlite==0.32.1\n",
      "locket==0.2.0\n",
      "lxml==4.5.0\n",
      "Mako==1.1.2\n",
      "Markdown==3.2.1\n",
      "MarkupSafe==1.1.1\n",
      "matplotlib==3.1.3\n",
      "mattermostwrapper==2.2\n",
      "mccabe==0.6.1\n",
      "menuinst==1.4.16\n",
      "mistune==0.8.4\n",
      "mkl-fft==1.0.15\n",
      "mkl-random==1.1.1\n",
      "mkl-service==2.3.0\n",
      "mock==4.0.2\n",
      "more-itertools==8.3.0\n",
      "mpmath==1.1.0\n",
      "msgpack==1.0.0\n",
      "multidict==4.7.5\n",
      "multipledispatch==0.6.0\n",
      "murmurhash==1.0.2\n",
      "navigator-updater==0.2.1\n",
      "nbconvert==5.6.1\n",
      "nbformat==5.0.6\n",
      "networkx==2.4\n",
      "nltk==3.4.5\n",
      "nose==1.3.7\n",
      "notebook==6.0.3\n",
      "numba==0.49.1\n",
      "numexpr==2.7.1\n",
      "numpy==1.18.1\n",
      "numpydoc==0.9.2\n",
      "oauth2client==4.1.3\n",
      "oauthlib==3.1.0\n",
      "olefile==0.46\n",
      "openpyxl==3.0.3\n",
      "opt-einsum==3.2.0\n",
      "packaging==20.3\n",
      "pandas==1.0.3\n",
      "pandocfilters==1.4.2\n",
      "paramiko==2.7.1\n",
      "parso==0.7.0\n",
      "partd==1.1.0\n",
      "path==13.1.0\n",
      "pathlib2==2.3.5\n",
      "pathtools==0.1.2\n",
      "patsy==0.5.1\n",
      "pep8==1.7.1\n",
      "pexpect==4.8.0\n",
      "pickleshare==0.7.5\n",
      "pika==1.1.0\n",
      "Pillow==7.1.2\n",
      "pkginfo==1.5.0.1\n",
      "plac==1.1.3\n",
      "pluggy==0.13.1\n",
      "ply==3.11\n",
      "preshed==3.0.2\n",
      "prometheus-client==0.7.1\n",
      "prompt-toolkit==3.0.5\n",
      "protobuf==3.11.3\n",
      "psutil==5.7.0\n",
      "psycopg2-binary==2.8.5\n",
      "py==1.8.1\n",
      "pyasn1==0.4.8\n",
      "pyasn1-modules==0.2.8\n",
      "pycodestyle==2.6.0\n",
      "pycosat==0.6.3\n",
      "pycparser==2.20\n",
      "pycrypto==2.6.1\n",
      "pycurl==7.43.0.5\n",
      "pydocstyle==4.0.1\n",
      "pydot==1.4.1\n",
      "pyflakes==2.2.0\n",
      "Pygments==2.6.1\n",
      "PyJWT==1.7.1\n",
      "pykwalify==1.7.0\n",
      "pylint==2.5.2\n",
      "pymongo==3.8.0\n",
      "PyNaCl==1.3.0\n",
      "pyodbc===4.0.0-unsupported\n",
      "pyOpenSSL==19.1.0\n",
      "pyparsing==2.4.7\n",
      "pyreadline==2.1\n",
      "pyrsistent==0.16.0\n",
      "PySocks==1.7.1\n",
      "pytest==5.4.2\n",
      "pytest-arraydiff==0.3\n",
      "pytest-astropy==0.8.0\n",
      "pytest-astropy-header==0.1.2\n",
      "pytest-doctestplus==0.5.0\n",
      "pytest-openfiles==0.5.0\n",
      "pytest-remotedata==0.3.2\n",
      "python-crfsuite==0.9.7\n",
      "python-dateutil==2.8.1\n",
      "python-editor==1.0.4\n",
      "python-engineio==3.11.2\n",
      "python-jsonrpc-server==0.3.4\n",
      "python-language-server==0.33.0\n",
      "python-socketio==4.4.0\n",
      "python-telegram-bot==11.1.0\n",
      "pytz==2020.1\n",
      "PyWavelets==1.1.1\n",
      "pywin32==227\n",
      "pywin32-ctypes==0.2.0\n",
      "pywinpty==0.5.7\n",
      "PyYAML==5.3.1\n",
      "pyzmq==18.1.1\n",
      "QDarkStyle==2.8.1\n",
      "QtAwesome==0.7.0\n",
      "qtconsole==4.7.4\n",
      "QtPy==1.9.0\n",
      "questionary==1.5.1\n",
      "rasa-sdk==1.9.0\n",
      "redis==3.4.1\n",
      "requests==2.23.0\n",
      "requests-oauthlib==1.3.0\n",
      "requests-toolbelt==0.9.1\n",
      "rfc3986==1.4.0\n",
      "rocketchat-API==0.6.36\n",
      "rope==0.17.0\n",
      "rsa==4.0\n",
      "Rtree==0.9.4\n",
      "ruamel-yaml==0.15.87\n",
      "s3transfer==0.3.3\n",
      "sanic==19.12.2\n",
      "Sanic-Cors==0.10.0.post3\n",
      "sanic-jwt==1.3.2\n",
      "Sanic-Plugins-Framework==0.9.2\n",
      "scikit-image==0.16.2\n",
      "scikit-learn==0.22.2.post1\n",
      "scipy==1.4.1\n",
      "seaborn==0.10.1\n",
      "selenium==3.141.0\n",
      "Send2Trash==1.5.0\n",
      "simplegeneric==0.8.1\n",
      "singledispatch==3.4.0.3\n",
      "six==1.15.0\n",
      "sklearn-crfsuite==0.3.6\n",
      "slackclient==2.5.0\n",
      "smmap==3.0.2\n",
      "sniffio==1.1.0\n",
      "snowballstemmer==2.0.0\n",
      "sortedcollections==1.1.2\n",
      "sortedcontainers==2.1.0\n",
      "soupsieve==2.0.1\n",
      "spacy==2.2.4\n",
      "Sphinx==3.0.4\n",
      "sphinxcontrib-applehelp==1.0.2\n",
      "sphinxcontrib-devhelp==1.0.2\n",
      "sphinxcontrib-htmlhelp==1.0.3\n",
      "sphinxcontrib-jsmath==1.0.1\n",
      "sphinxcontrib-qthelp==1.0.3\n",
      "sphinxcontrib-serializinghtml==1.1.4\n",
      "sphinxcontrib-websupport==1.2.1\n",
      "spyder==3.3.6\n",
      "spyder-kernels==0.5.1\n",
      "SQLAlchemy==1.3.17\n",
      "srsly==1.0.2\n",
      "statsmodels==0.11.1\n",
      "sympy==1.5.1\n",
      "tables==3.6.1\n",
      "tabulate==0.8.7\n",
      "tblib==1.6.0\n",
      "tensorboard==2.1.1\n",
      "tensorflow==2.1.0\n",
      "tensorflow-addons==0.9.1\n",
      "tensorflow-estimator==2.1.0\n",
      "tensorflow-hub==0.7.0\n",
      "tensorflow-probability==0.7.0\n",
      "termcolor==1.1.0\n",
      "terminado==0.8.3\n",
      "terminaltables==3.1.0\n",
      "testpath==0.4.4\n",
      "thinc==7.4.0\n",
      "toml==0.10.0\n",
      "toolz==0.10.0\n",
      "tornado==6.0.4\n",
      "tqdm==4.46.0\n",
      "traitlets==4.3.3\n",
      "twilio==6.26.3\n",
      "typed-ast==1.4.1\n",
      "typeguard==2.7.1\n",
      "typing-extensions==3.7.4.1\n",
      "tzlocal==2.0.0\n",
      "ujson==1.35\n",
      "unicodecsv==0.14.1\n",
      "unrar==0.4\n",
      "urllib3==1.25.8\n",
      "wasabi==0.6.0\n",
      "watchdog==0.10.2\n",
      "wcwidth==0.1.9\n",
      "webencodings==0.5.1\n",
      "webexteamssdk==1.1.1\n",
      "websockets==8.1\n",
      "Werkzeug==1.0.1\n",
      "widgetsnbextension==3.5.1\n",
      "win-inet-pton==1.1.0\n",
      "win-unicode-console==0.5\n",
      "wincertstore==0.2\n",
      "wrapt==1.11.2\n",
      "xlrd==1.2.0\n",
      "XlsxWriter==1.2.8\n",
      "xlwings==0.19.4\n",
      "xlwt==1.3.0\n",
      "xmltodict==0.12.0\n",
      "yapf==0.28.0\n",
      "yarl==1.4.2\n",
      "zict==2.0.0\n",
      "zipp==3.1.0\n"
     ]
    }
   ],
   "source": [
    "# To verify the version of differet libraries\n",
    "pip freeze\n"
   ]
  },
  {
   "cell_type": "code",
   "execution_count": null,
   "metadata": {},
   "outputs": [],
   "source": []
  }
 ],
 "metadata": {
  "kernelspec": {
   "display_name": "Python 3",
   "language": "python",
   "name": "python3"
  },
  "language_info": {
   "codemirror_mode": {
    "name": "ipython",
    "version": 3
   },
   "file_extension": ".py",
   "mimetype": "text/x-python",
   "name": "python",
   "nbconvert_exporter": "python",
   "pygments_lexer": "ipython3",
   "version": "3.7.3"
  }
 },
 "nbformat": 4,
 "nbformat_minor": 4
}
